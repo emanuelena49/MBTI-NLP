{
 "cells": [
  {
   "cell_type": "code",
   "execution_count": 259,
   "metadata": {},
   "outputs": [],
   "source": [
    "import pandas as pd\n",
    "import nltk\n",
    "from nltk.corpus import stopwords\n",
    "from nltk.stem import WordNetLemmatizer\n",
    "from nltk.tokenize import word_tokenize\n",
    "from nltk.util import ngrams \n",
    "\n",
    "\n",
    "import gensim\n",
    "from collections import Counter, defaultdict\n",
    "import numpy as np\n",
    "import scipy as sp\n",
    "from sklearn.feature_extraction.text import TfidfVectorizer\n",
    "from sklearn.cluster import KMeans, AgglomerativeClustering\n",
    "from sklearn.decomposition import PCA\n",
    "\n",
    "from typing import List, Dict, Set, Tuple, Callable, Iterable\n",
    "from itertools import chain\n",
    "\n",
    "import matplotlib.pyplot as plt\n",
    "import seaborn as sns\n",
    "\n",
    "import os\n"
   ]
  },
  {
   "cell_type": "markdown",
   "metadata": {},
   "source": [
    "## Introduction "
   ]
  },
  {
   "cell_type": "markdown",
   "metadata": {},
   "source": [
    "### The Myers-Briggs Type Indicator (MBTI)\n",
    "\n",
    "Myers-Briggs Type Indicator (MBTI) is a self-report questionnaire that permits to classify people into 16 psychological types. The types are derived from Jung personality theory, and represent some sort of archetypes.\n",
    "\n",
    "Types are defined by four dichotomies (pairs of opposite traits):\n",
    "\n",
    "- **E**xtraversion (E) vs **I**ntroversion (I) $\\leftarrow$ \n",
    "  - are you more internally or externally focused? \n",
    "  - Do you gain energy from being around people or from being alone?\n",
    "- **S**ensing (S) vs i**N**tuition (N) $\\leftarrow$ \n",
    "  - how do you gather information? \n",
    "  - Are you more practical and concrete or more abstract and theoretical?\n",
    "- **T**hinking (T) vs **F**eeling (F) $\\leftarrow$ \n",
    "  - how do you make decisions? \n",
    "  - Are you more rational (detached, reasonable, logical) or more emotional (empathetic, compassionate, sensitive, involved from inside)?\n",
    "- **J**udging (J) vs **P**erceiving (P) $\\leftarrow$ (a bit more tricky) \n",
    "  - it is a sort of lifestyle preference. \n",
    "  - Do you prefer to show externally your main perceiving function (sensing or intuition) or your main judging function (thinking or feeling)? \n",
    "\n",
    "$\\Rightarrow$ combining those four dichotomies, you obtain 16 types, each one with a specific combination of traits. Each type is identified by four letters. Some examples:\n",
    "\n",
    "> *\"ENFP\"* $\\leftarrow$ Extraverted, iNtuitive, Feeler, who prefers do display his perceiving function (iNtuition).\n",
    "> \n",
    "> *\"ISTJ\"* $\\leftarrow$ Introverted, Sensor, Thinker, who prefers to display his judging function (Thinking).\n",
    "\n",
    "Moreover, each type has been labelled with an \"archetipal\" name. For example, the ENFP type is called \"The Campaigner\", and the ISTJ type is called \"The Logistician\", etc.\n"
   ]
  },
  {
   "cell_type": "markdown",
   "metadata": {},
   "source": [
    "### Further ideas and criticisms \n",
    "\n",
    "- there is a whole theory about the cognitive functions, differences between original Jung theory and MBTI, correlation with other indicators, etc.\n",
    "- there is also a lot of criticism on validity and reliability of the test...\n",
    "  - not all the theory is not based on scientific evidence\n",
    "  - there is few evidence of the existence of some traits and some other traits seems not to be so dichotomous\n",
    "  - \"non predictive\" nature of the test\n",
    "  - business and companies born around the test\n",
    "  - etc.\n",
    "\n",
    "Some sources:\n",
    "\n",
    "- Wikipedia: https://en.wikipedia.org/wiki/Myers%E2%80%93Briggs_Type_Indicator\n",
    "- The 16 personalities descriptions and the main test website: https://www.16personalities.com/personality-types "
   ]
  },
  {
   "cell_type": "markdown",
   "metadata": {},
   "source": [
    "### What we do in this project\n",
    "\n",
    "In this project we take the descriptions of the 16 types and we try to extract some information from them, using various NLP techniques."
   ]
  },
  {
   "cell_type": "markdown",
   "metadata": {},
   "source": [
    "## The dataset\n",
    "\n",
    "- Source: https://www.kaggle.com/datasets/yamaerenay/mbtitypes-full?select=types.csv \n",
    "  - (it contains the descriptions of the main website, grouped in a single CSV table)\n",
    "- For each type, we have\n",
    "  - the four letters dichotomy\n",
    "  - the archetipal name (nickname)\n",
    "  - various descriptions of different aspects of the type (e.g. \"strengths\", \"weaknesses\", \"romantic relationships\", etc.)"
   ]
  },
  {
   "cell_type": "markdown",
   "metadata": {},
   "source": [
    "### Data gathering\n",
    "\n",
    "You can download the CSV dataset from the [link above](https://www.kaggle.com/datasets/yamaerenay/mbtitypes-full?select=types.csv). To begin the analysis, extract eventual ZIPs and put the `types.csv` file it in the `./data/` folder."
   ]
  },
  {
   "cell_type": "code",
   "execution_count": 202,
   "metadata": {},
   "outputs": [],
   "source": [
    "types = pd.read_csv('data/types.csv')\n",
    "types.set_index('Type', inplace=True)"
   ]
  },
  {
   "cell_type": "code",
   "execution_count": 203,
   "metadata": {},
   "outputs": [
    {
     "data": {
      "text/html": [
       "<div>\n",
       "<style scoped>\n",
       "    .dataframe tbody tr th:only-of-type {\n",
       "        vertical-align: middle;\n",
       "    }\n",
       "\n",
       "    .dataframe tbody tr th {\n",
       "        vertical-align: top;\n",
       "    }\n",
       "\n",
       "    .dataframe thead th {\n",
       "        text-align: right;\n",
       "    }\n",
       "</style>\n",
       "<table border=\"1\" class=\"dataframe\">\n",
       "  <thead>\n",
       "    <tr style=\"text-align: right;\">\n",
       "      <th></th>\n",
       "      <th>Introduction</th>\n",
       "      <th>Strengths and Weaknesses</th>\n",
       "      <th>Romantic Relationships</th>\n",
       "      <th>Friendships</th>\n",
       "      <th>Parenthood</th>\n",
       "      <th>Career Paths</th>\n",
       "      <th>Workplace Habits</th>\n",
       "      <th>Conclusion</th>\n",
       "      <th>Celebrities</th>\n",
       "      <th>Description</th>\n",
       "      <th>Nickname</th>\n",
       "      <th>Definition</th>\n",
       "      <th>E</th>\n",
       "      <th>I</th>\n",
       "      <th>N</th>\n",
       "      <th>S</th>\n",
       "      <th>T</th>\n",
       "      <th>F</th>\n",
       "      <th>J</th>\n",
       "      <th>P</th>\n",
       "    </tr>\n",
       "    <tr>\n",
       "      <th>Type</th>\n",
       "      <th></th>\n",
       "      <th></th>\n",
       "      <th></th>\n",
       "      <th></th>\n",
       "      <th></th>\n",
       "      <th></th>\n",
       "      <th></th>\n",
       "      <th></th>\n",
       "      <th></th>\n",
       "      <th></th>\n",
       "      <th></th>\n",
       "      <th></th>\n",
       "      <th></th>\n",
       "      <th></th>\n",
       "      <th></th>\n",
       "      <th></th>\n",
       "      <th></th>\n",
       "      <th></th>\n",
       "      <th></th>\n",
       "      <th></th>\n",
       "    </tr>\n",
       "  </thead>\n",
       "  <tbody>\n",
       "    <tr>\n",
       "      <th>INTJ</th>\n",
       "      <td>Introduction\\n\\nWHO IS AN ARCHITECT (INTJ)?\\n\\...</td>\n",
       "      <td>Strengths &amp; Weaknesses\\nArchitect (INTJ) Stren...</td>\n",
       "      <td>Romantic Relationships\\n\\n“Of all forms of cau...</td>\n",
       "      <td>Friendships\\n\\n“A friend to all is a friend to...</td>\n",
       "      <td>Parenthood\\n\\n“Children must be taught how to ...</td>\n",
       "      <td>Career Paths\\n\\n“One never notices what has be...</td>\n",
       "      <td>Workplace Habits\\n\\nWhat Architects (INTJs) wa...</td>\n",
       "      <td>Conclusion\\n\\n“No escape from patterns and sys...</td>\n",
       "      <td>['Friedrich Nietzsche', 'Michelle Obama', 'Elo...</td>\n",
       "      <td>Imaginative and strategic thinkers, with a pla...</td>\n",
       "      <td>Architect</td>\n",
       "      <td>An Architect (INTJ) is a person with the Intro...</td>\n",
       "      <td>0</td>\n",
       "      <td>1</td>\n",
       "      <td>1</td>\n",
       "      <td>0</td>\n",
       "      <td>1</td>\n",
       "      <td>0</td>\n",
       "      <td>1</td>\n",
       "      <td>0</td>\n",
       "    </tr>\n",
       "    <tr>\n",
       "      <th>INTP</th>\n",
       "      <td>Introduction\\n\\nWHO IS A LOGICIAN (INTP)?\\n\\nA...</td>\n",
       "      <td>Strengths &amp; Weaknesses\\nLogician Strengths\\nGr...</td>\n",
       "      <td>Romantic Relationships\\n\\nWhen it comes to rom...</td>\n",
       "      <td>Friendships\\n\\nMany of the usual motivations f...</td>\n",
       "      <td>Parenthood\\n\\nIn parenting roles, as with many...</td>\n",
       "      <td>Career Paths\\n\\nLogicians are solitary, eccent...</td>\n",
       "      <td>Workplace Habits\\n\\nThe running theme for Logi...</td>\n",
       "      <td>Conclusion\\n\\nArmed with a powerful intellect ...</td>\n",
       "      <td>['Bill Gates', 'Kristen Stewart', 'Albert Eins...</td>\n",
       "      <td>Innovative inventors with an unquenchable thir...</td>\n",
       "      <td>Logician</td>\n",
       "      <td>A Logician (INTP) is someone with the Introver...</td>\n",
       "      <td>0</td>\n",
       "      <td>1</td>\n",
       "      <td>1</td>\n",
       "      <td>0</td>\n",
       "      <td>1</td>\n",
       "      <td>0</td>\n",
       "      <td>0</td>\n",
       "      <td>1</td>\n",
       "    </tr>\n",
       "    <tr>\n",
       "      <th>ENTJ</th>\n",
       "      <td>Introduction\\n\\nWHO IS A COMMANDER (ENTJ)?\\n\\n...</td>\n",
       "      <td>Strengths &amp; Weaknesses\\nCommander Strengths\\nE...</td>\n",
       "      <td>Romantic Relationships\\n\\nAs in other areas of...</td>\n",
       "      <td>Friendships\\n\\nAs in most aspects of their liv...</td>\n",
       "      <td>Parenthood\\n\\nOften, given their strong will a...</td>\n",
       "      <td>Career Paths\\n\\nIt is in the world of careers ...</td>\n",
       "      <td>Workplace Habits\\n\\nFor people with the Comman...</td>\n",
       "      <td>Conclusion\\n\\nArmed with a powerful intellect ...</td>\n",
       "      <td>['Steve Jobs', 'Gordon Ramsay', 'Margaret That...</td>\n",
       "      <td>Bold, imaginative and strong-willed leaders, a...</td>\n",
       "      <td>Commander</td>\n",
       "      <td>A Commander (ENTJ) is someone with the Extrave...</td>\n",
       "      <td>1</td>\n",
       "      <td>0</td>\n",
       "      <td>1</td>\n",
       "      <td>0</td>\n",
       "      <td>1</td>\n",
       "      <td>0</td>\n",
       "      <td>1</td>\n",
       "      <td>0</td>\n",
       "    </tr>\n",
       "  </tbody>\n",
       "</table>\n",
       "</div>"
      ],
      "text/plain": [
       "                                           Introduction  \\\n",
       "Type                                                      \n",
       "INTJ  Introduction\\n\\nWHO IS AN ARCHITECT (INTJ)?\\n\\...   \n",
       "INTP  Introduction\\n\\nWHO IS A LOGICIAN (INTP)?\\n\\nA...   \n",
       "ENTJ  Introduction\\n\\nWHO IS A COMMANDER (ENTJ)?\\n\\n...   \n",
       "\n",
       "                               Strengths and Weaknesses  \\\n",
       "Type                                                      \n",
       "INTJ  Strengths & Weaknesses\\nArchitect (INTJ) Stren...   \n",
       "INTP  Strengths & Weaknesses\\nLogician Strengths\\nGr...   \n",
       "ENTJ  Strengths & Weaknesses\\nCommander Strengths\\nE...   \n",
       "\n",
       "                                 Romantic Relationships  \\\n",
       "Type                                                      \n",
       "INTJ  Romantic Relationships\\n\\n“Of all forms of cau...   \n",
       "INTP  Romantic Relationships\\n\\nWhen it comes to rom...   \n",
       "ENTJ  Romantic Relationships\\n\\nAs in other areas of...   \n",
       "\n",
       "                                            Friendships  \\\n",
       "Type                                                      \n",
       "INTJ  Friendships\\n\\n“A friend to all is a friend to...   \n",
       "INTP  Friendships\\n\\nMany of the usual motivations f...   \n",
       "ENTJ  Friendships\\n\\nAs in most aspects of their liv...   \n",
       "\n",
       "                                             Parenthood  \\\n",
       "Type                                                      \n",
       "INTJ  Parenthood\\n\\n“Children must be taught how to ...   \n",
       "INTP  Parenthood\\n\\nIn parenting roles, as with many...   \n",
       "ENTJ  Parenthood\\n\\nOften, given their strong will a...   \n",
       "\n",
       "                                           Career Paths  \\\n",
       "Type                                                      \n",
       "INTJ  Career Paths\\n\\n“One never notices what has be...   \n",
       "INTP  Career Paths\\n\\nLogicians are solitary, eccent...   \n",
       "ENTJ  Career Paths\\n\\nIt is in the world of careers ...   \n",
       "\n",
       "                                       Workplace Habits  \\\n",
       "Type                                                      \n",
       "INTJ  Workplace Habits\\n\\nWhat Architects (INTJs) wa...   \n",
       "INTP  Workplace Habits\\n\\nThe running theme for Logi...   \n",
       "ENTJ  Workplace Habits\\n\\nFor people with the Comman...   \n",
       "\n",
       "                                             Conclusion  \\\n",
       "Type                                                      \n",
       "INTJ  Conclusion\\n\\n“No escape from patterns and sys...   \n",
       "INTP  Conclusion\\n\\nArmed with a powerful intellect ...   \n",
       "ENTJ  Conclusion\\n\\nArmed with a powerful intellect ...   \n",
       "\n",
       "                                            Celebrities  \\\n",
       "Type                                                      \n",
       "INTJ  ['Friedrich Nietzsche', 'Michelle Obama', 'Elo...   \n",
       "INTP  ['Bill Gates', 'Kristen Stewart', 'Albert Eins...   \n",
       "ENTJ  ['Steve Jobs', 'Gordon Ramsay', 'Margaret That...   \n",
       "\n",
       "                                            Description   Nickname  \\\n",
       "Type                                                                 \n",
       "INTJ  Imaginative and strategic thinkers, with a pla...  Architect   \n",
       "INTP  Innovative inventors with an unquenchable thir...   Logician   \n",
       "ENTJ  Bold, imaginative and strong-willed leaders, a...  Commander   \n",
       "\n",
       "                                             Definition  E  I  N  S  T  F  J  \\\n",
       "Type                                                                           \n",
       "INTJ  An Architect (INTJ) is a person with the Intro...  0  1  1  0  1  0  1   \n",
       "INTP  A Logician (INTP) is someone with the Introver...  0  1  1  0  1  0  0   \n",
       "ENTJ  A Commander (ENTJ) is someone with the Extrave...  1  0  1  0  1  0  1   \n",
       "\n",
       "      P  \n",
       "Type     \n",
       "INTJ  0  \n",
       "INTP  1  \n",
       "ENTJ  0  "
      ]
     },
     "execution_count": 203,
     "metadata": {},
     "output_type": "execute_result"
    }
   ],
   "source": [
    "types.head(3)"
   ]
  },
  {
   "cell_type": "code",
   "execution_count": 204,
   "metadata": {},
   "outputs": [
    {
     "data": {
      "text/plain": [
       "Index(['Introduction', 'Strengths and Weaknesses', 'Romantic Relationships',\n",
       "       'Friendships', 'Parenthood', 'Career Paths', 'Workplace Habits',\n",
       "       'Conclusion', 'Celebrities', 'Description', 'Nickname', 'Definition',\n",
       "       'E', 'I', 'N', 'S', 'T', 'F', 'J', 'P'],\n",
       "      dtype='object')"
      ]
     },
     "execution_count": 204,
     "metadata": {},
     "output_type": "execute_result"
    }
   ],
   "source": [
    "types.columns"
   ]
  },
  {
   "cell_type": "markdown",
   "metadata": {},
   "source": [
    "We bring the data into two formats:\n",
    "\n",
    "- format 1: a single Pandas `DataFrame`, with one row foreach type and single corpus column containing all the sections merged together\n",
    "- format 2: a Pandas `DataFrame` with one row for each tuple `(type, section)` and a corpus column containing the text of the section\n",
    "\n",
    "Before doing so, we make some corpus cleaning procedures (e.g., remove headlines in texts). We will discuss them later. "
   ]
  },
  {
   "cell_type": "code",
   "execution_count": 205,
   "metadata": {},
   "outputs": [],
   "source": [
    "# ---------------------------------------------------\n",
    "# 0) Corpus cleaning\n",
    "\n",
    "# columns to be used for corpus\n",
    "corpus_cols = [\n",
    "    'Description', 'Introduction', 'Strengths and Weaknesses',\n",
    "    'Romantic Relationships', 'Friendships', 'Parenthood',\n",
    "    'Career Paths', 'Workplace Habits', 'Conclusion'\n",
    "]\n",
    "\n",
    "for c in corpus_cols:\n",
    "\n",
    "    # turn double \"\\n\\n\" into single \"\\n\"\n",
    "    types[c] = types[c].str.replace('\\n\\n', '\\n')\n",
    "\n",
    "    # remove from all corpus columns various headlines \n",
    "    lines = types[c].str.split('\\n')\n",
    "    \n",
    "    # (the valid lines are the ones that has at least one \".\")\n",
    "    lines = lines.apply(lambda x: [l for l in x if '.' in l])\n",
    "\n",
    "    types[c] = lines.str.join('\\n')\n",
    "\n"
   ]
  },
  {
   "cell_type": "code",
   "execution_count": 206,
   "metadata": {},
   "outputs": [
    {
     "name": "stdout",
     "output_type": "stream",
     "text": [
      "Average nr. of words in each full-text corpus:\t 4047.25\n"
     ]
    },
    {
     "data": {
      "text/html": [
       "<div>\n",
       "<style scoped>\n",
       "    .dataframe tbody tr th:only-of-type {\n",
       "        vertical-align: middle;\n",
       "    }\n",
       "\n",
       "    .dataframe tbody tr th {\n",
       "        vertical-align: top;\n",
       "    }\n",
       "\n",
       "    .dataframe thead th {\n",
       "        text-align: right;\n",
       "    }\n",
       "</style>\n",
       "<table border=\"1\" class=\"dataframe\">\n",
       "  <thead>\n",
       "    <tr style=\"text-align: right;\">\n",
       "      <th></th>\n",
       "      <th>corpus</th>\n",
       "    </tr>\n",
       "    <tr>\n",
       "      <th>Type</th>\n",
       "      <th></th>\n",
       "    </tr>\n",
       "  </thead>\n",
       "  <tbody>\n",
       "    <tr>\n",
       "      <th>INTJ</th>\n",
       "      <td>Imaginative and strategic thinkers, with a pla...</td>\n",
       "    </tr>\n",
       "    <tr>\n",
       "      <th>INTP</th>\n",
       "      <td>Innovative inventors with an unquenchable thir...</td>\n",
       "    </tr>\n",
       "    <tr>\n",
       "      <th>ENTJ</th>\n",
       "      <td>Bold, imaginative and strong-willed leaders, a...</td>\n",
       "    </tr>\n",
       "    <tr>\n",
       "      <th>ENTP</th>\n",
       "      <td>Smart and curious thinkers who cannot resist a...</td>\n",
       "    </tr>\n",
       "    <tr>\n",
       "      <th>INFJ</th>\n",
       "      <td>Quiet and mystical, yet very inspiring and tir...</td>\n",
       "    </tr>\n",
       "  </tbody>\n",
       "</table>\n",
       "</div>"
      ],
      "text/plain": [
       "                                                 corpus\n",
       "Type                                                   \n",
       "INTJ  Imaginative and strategic thinkers, with a pla...\n",
       "INTP  Innovative inventors with an unquenchable thir...\n",
       "ENTJ  Bold, imaginative and strong-willed leaders, a...\n",
       "ENTP  Smart and curious thinkers who cannot resist a...\n",
       "INFJ  Quiet and mystical, yet very inspiring and tir..."
      ]
     },
     "execution_count": 206,
     "metadata": {},
     "output_type": "execute_result"
    }
   ],
   "source": [
    "# ------------------------------\n",
    "# generate format 1: \n",
    "\n",
    "# generate a single description for each type\n",
    "df_types_ft = pd.DataFrame()\n",
    "df_types_ft['corpus'] = types.apply(\n",
    "    lambda row: \"\\n\".join(row[corpus_cols]), axis=1\n",
    "    )\n",
    "\n",
    "# get average nr. of words in each full-text corpus\n",
    "print(\n",
    "    \"Average nr. of words in each full-text corpus:\\t\", \n",
    "    np.mean(df_types_ft['corpus'].apply(lambda x: len(x.split())))\n",
    "    )\n",
    "\n",
    "df_types_ft.head(5)"
   ]
  },
  {
   "cell_type": "code",
   "execution_count": 207,
   "metadata": {},
   "outputs": [
    {
     "name": "stdout",
     "output_type": "stream",
     "text": [
      "Average nr. of words in each section corpus:\t 449.69444444444446\n"
     ]
    },
    {
     "data": {
      "text/html": [
       "<div>\n",
       "<style scoped>\n",
       "    .dataframe tbody tr th:only-of-type {\n",
       "        vertical-align: middle;\n",
       "    }\n",
       "\n",
       "    .dataframe tbody tr th {\n",
       "        vertical-align: top;\n",
       "    }\n",
       "\n",
       "    .dataframe thead th {\n",
       "        text-align: right;\n",
       "    }\n",
       "</style>\n",
       "<table border=\"1\" class=\"dataframe\">\n",
       "  <thead>\n",
       "    <tr style=\"text-align: right;\">\n",
       "      <th></th>\n",
       "      <th>Type</th>\n",
       "      <th>section</th>\n",
       "      <th>corpus</th>\n",
       "    </tr>\n",
       "  </thead>\n",
       "  <tbody>\n",
       "    <tr>\n",
       "      <th>INTJ.Description</th>\n",
       "      <td>INTJ</td>\n",
       "      <td>Description</td>\n",
       "      <td>Imaginative and strategic thinkers, with a pla...</td>\n",
       "    </tr>\n",
       "    <tr>\n",
       "      <th>INTP.Description</th>\n",
       "      <td>INTP</td>\n",
       "      <td>Description</td>\n",
       "      <td>Innovative inventors with an unquenchable thir...</td>\n",
       "    </tr>\n",
       "    <tr>\n",
       "      <th>ENTJ.Description</th>\n",
       "      <td>ENTJ</td>\n",
       "      <td>Description</td>\n",
       "      <td>Bold, imaginative and strong-willed leaders, a...</td>\n",
       "    </tr>\n",
       "    <tr>\n",
       "      <th>ENTP.Description</th>\n",
       "      <td>ENTP</td>\n",
       "      <td>Description</td>\n",
       "      <td>Smart and curious thinkers who cannot resist a...</td>\n",
       "    </tr>\n",
       "    <tr>\n",
       "      <th>INFJ.Description</th>\n",
       "      <td>INFJ</td>\n",
       "      <td>Description</td>\n",
       "      <td>Quiet and mystical, yet very inspiring and tir...</td>\n",
       "    </tr>\n",
       "  </tbody>\n",
       "</table>\n",
       "</div>"
      ],
      "text/plain": [
       "                  Type      section  \\\n",
       "INTJ.Description  INTJ  Description   \n",
       "INTP.Description  INTP  Description   \n",
       "ENTJ.Description  ENTJ  Description   \n",
       "ENTP.Description  ENTP  Description   \n",
       "INFJ.Description  INFJ  Description   \n",
       "\n",
       "                                                             corpus  \n",
       "INTJ.Description  Imaginative and strategic thinkers, with a pla...  \n",
       "INTP.Description  Innovative inventors with an unquenchable thir...  \n",
       "ENTJ.Description  Bold, imaginative and strong-willed leaders, a...  \n",
       "ENTP.Description  Smart and curious thinkers who cannot resist a...  \n",
       "INFJ.Description  Quiet and mystical, yet very inspiring and tir...  "
      ]
     },
     "execution_count": 207,
     "metadata": {},
     "output_type": "execute_result"
    }
   ],
   "source": [
    "# generate format 2:\n",
    "df_types_sects = types.reset_index() \\\n",
    "    .melt(  # turn columns into rows (identified by a 'Type','section' pair)\n",
    "        id_vars='Type',\n",
    "        value_vars=corpus_cols, \n",
    "        var_name='section', \n",
    "        value_name='corpus'\n",
    "    )\n",
    "\n",
    "df_types_sects.index = df_types_sects['Type'] + '.' + df_types_sects['section']\n",
    "\n",
    "# get average nr. of words in each section corpus\n",
    "print(\n",
    "    \"Average nr. of words in each section corpus:\\t\", \n",
    "    np.mean(df_types_sects['corpus'].apply(lambda x: len(x.split())))\n",
    "    )\n",
    "\n",
    "df_types_sects.head(5)"
   ]
  },
  {
   "cell_type": "markdown",
   "metadata": {},
   "source": [
    "## Summarization\n",
    "\n",
    "> Which are the main characteristics of each MBTI type? \n",
    "> How can we summarize them in few words?\n",
    "> Which are their most discriminant traits?\n",
    "\n",
    "**Tools and techniques**: *sencence scoring based summarization, TF-IDF*"
   ]
  },
  {
   "cell_type": "markdown",
   "metadata": {},
   "source": [
    "### Proposed solution and work pipeline\n",
    "\n",
    "**Proposed solution**: use sentence scoring summarization to extract the most important sentences foreach type. \n",
    "\n",
    "**Work pipeline**:\n",
    "\n",
    "0. (some corpus cleaning we will see later)\n",
    "1. preprocessing\n",
    "    - to lowercase\n",
    "    - tokenization\n",
    "    - stopwords and punctuation removal\n",
    "    - lemmatisation\n",
    "    - n-gram generation (words + bi-grams)\n",
    "\n",
    "2. generation of a frequency dictionary (which tracks the occorrences and the frequencies of each word in all documents)\n",
    "3. token scoring\n",
    "4. using token scoring to score sentences\n",
    "5. select sentences according to some criteria (e.g., treshold)"
   ]
  },
  {
   "cell_type": "markdown",
   "metadata": {},
   "source": [
    "### Alternative choices and issues\n",
    "\n",
    "**Alternative choices**:\n",
    "\n",
    "- use the whole corpus (of each type) as an unique text VS use the sections as separated texts \n",
    "  - first solution brings to a more \"general\" summary foreach type\n",
    "  - second solution brings to more \"specific\" summaries foreach section of each type\n",
    "- use a simple frequency-based scoring VS use a TF-IDF scoring (where documents are types/types-sections)\n",
    "  - second solution may bring to a more \"discriminant\" summary, but it may miss some still relevant but not discriminant sentences\n",
    "\n",
    "**Found issues**:\n",
    "\n",
    "- corpus is full of non useful headlines\n",
    "  - (if not treated, they may receive a high score because they usually contain the type name, which is usually the most frequent word in the corpus...)\n",
    "  - *SOLUTION*: remove headlines from the corpus \n",
    "    - we detect them as lines withouth dots\n",
    "    - we do that in a corpus cleaning step, before the preprocessing\n",
    "\n",
    "- types sentences scores may have very different distributions (centered around different values, more or less wide, etc.) $\\Rightarrow$ it may be difficult to find a good treshold for all types\n",
    "  - to uniform scores ranges, we always use a local min-max normalization (we normalize scores foreach type)\n",
    "  - we see later how to deal this issue\n",
    "\n",
    "- presenting all this data may be difficult\n",
    "  - (see last section of this notebook)"
   ]
  },
  {
   "cell_type": "code",
   "execution_count": 242,
   "metadata": {},
   "outputs": [],
   "source": [
    "# ------------------------------\n",
    "# 1) preprocessing: \n",
    "#   define a preprocessing function \n",
    "#   and some other useful tools\n",
    "\n",
    "# generate lemmatizer\n",
    "lemmatizer = WordNetLemmatizer()\n",
    "\n",
    "# extract types letters and nicknames \n",
    "# (we will need them later)\n",
    "types_letters_and_nicknames = [w.lower() for w in list(types.Nickname) + list(types.index)]\n",
    "\n",
    "def preprocessing(\n",
    "        text: str, \n",
    "        n_ngrams: int = 1, \n",
    "        lemmatizer: WordNetLemmatizer = lemmatizer, \n",
    "        other_stopwords: List[str] = []\n",
    "        ) -> List[str]:\n",
    "    \"\"\"\n",
    "    Preprocess text for one document. \n",
    "\n",
    "    Applied operations are: to lower case, tokenization, \n",
    "    stop words and punctuation removal, \n",
    "    lemmatization, n-grams generation\n",
    "    \"\"\"\n",
    "    \n",
    "    # to lower case and tokenization\n",
    "    tokens = nltk.word_tokenize(text.lower())\n",
    "\n",
    "    # stop words and punctuation removal\n",
    "    tokens = [\n",
    "        token for token in tokens \\\n",
    "        if token.isalpha() and \\\n",
    "        (token not in nltk.corpus.stopwords.words('english')) and \\\n",
    "        lemmatizer.lemmatize(token) not in other_stopwords\n",
    "        ]\n",
    "\n",
    "    # lemmatization\n",
    "    tokens = [lemmatizer.lemmatize(token) for token in tokens]\n",
    "    \n",
    "\n",
    "    if n_ngrams <= 1:\n",
    "        return tokens\n",
    "    \n",
    "    # n-grams generation\n",
    "    generated_ngrams = tokens.copy()\n",
    "\n",
    "    for i in range(2, n_ngrams + 1):\n",
    "        processed_text = ngrams(tokens, i)\n",
    "        generated_ngrams += [' '.join(grams) for grams in processed_text]\n",
    "\n",
    "    return generated_ngrams\n"
   ]
  },
  {
   "cell_type": "code",
   "execution_count": 209,
   "metadata": {},
   "outputs": [
    {
     "data": {
      "text/html": [
       "<div>\n",
       "<style scoped>\n",
       "    .dataframe tbody tr th:only-of-type {\n",
       "        vertical-align: middle;\n",
       "    }\n",
       "\n",
       "    .dataframe tbody tr th {\n",
       "        vertical-align: top;\n",
       "    }\n",
       "\n",
       "    .dataframe thead th {\n",
       "        text-align: right;\n",
       "    }\n",
       "</style>\n",
       "<table border=\"1\" class=\"dataframe\">\n",
       "  <thead>\n",
       "    <tr style=\"text-align: right;\">\n",
       "      <th></th>\n",
       "      <th>Type</th>\n",
       "      <th>section</th>\n",
       "      <th>corpus</th>\n",
       "      <th>Tokens</th>\n",
       "    </tr>\n",
       "  </thead>\n",
       "  <tbody>\n",
       "    <tr>\n",
       "      <th>INTJ.Description</th>\n",
       "      <td>INTJ</td>\n",
       "      <td>Description</td>\n",
       "      <td>Imaginative and strategic thinkers, with a pla...</td>\n",
       "      <td>[imaginative, strategic, thinker, plan, everyt...</td>\n",
       "    </tr>\n",
       "    <tr>\n",
       "      <th>INTP.Description</th>\n",
       "      <td>INTP</td>\n",
       "      <td>Description</td>\n",
       "      <td>Innovative inventors with an unquenchable thir...</td>\n",
       "      <td>[innovative, inventor, unquenchable, thirst, k...</td>\n",
       "    </tr>\n",
       "    <tr>\n",
       "      <th>ENTJ.Description</th>\n",
       "      <td>ENTJ</td>\n",
       "      <td>Description</td>\n",
       "      <td>Bold, imaginative and strong-willed leaders, a...</td>\n",
       "      <td>[bold, imaginative, leader, always, finding, w...</td>\n",
       "    </tr>\n",
       "  </tbody>\n",
       "</table>\n",
       "</div>"
      ],
      "text/plain": [
       "                  Type      section  \\\n",
       "INTJ.Description  INTJ  Description   \n",
       "INTP.Description  INTP  Description   \n",
       "ENTJ.Description  ENTJ  Description   \n",
       "\n",
       "                                                             corpus  \\\n",
       "INTJ.Description  Imaginative and strategic thinkers, with a pla...   \n",
       "INTP.Description  Innovative inventors with an unquenchable thir...   \n",
       "ENTJ.Description  Bold, imaginative and strong-willed leaders, a...   \n",
       "\n",
       "                                                             Tokens  \n",
       "INTJ.Description  [imaginative, strategic, thinker, plan, everyt...  \n",
       "INTP.Description  [innovative, inventor, unquenchable, thirst, k...  \n",
       "ENTJ.Description  [bold, imaginative, leader, always, finding, w...  "
      ]
     },
     "execution_count": 209,
     "metadata": {},
     "output_type": "execute_result"
    }
   ],
   "source": [
    "# apply preprocessing to each section \n",
    "# [Needed time: 16 seconds]\n",
    "df_types_sects[\"Tokens\"] = df_types_sects[\"corpus\"].apply(\n",
    "    lambda x: preprocessing(x, n_ngrams=2))\n",
    "\n",
    "df_types_sects.head(3)"
   ]
  },
  {
   "cell_type": "code",
   "execution_count": 210,
   "metadata": {},
   "outputs": [
    {
     "data": {
      "text/html": [
       "<div>\n",
       "<style scoped>\n",
       "    .dataframe tbody tr th:only-of-type {\n",
       "        vertical-align: middle;\n",
       "    }\n",
       "\n",
       "    .dataframe tbody tr th {\n",
       "        vertical-align: top;\n",
       "    }\n",
       "\n",
       "    .dataframe thead th {\n",
       "        text-align: right;\n",
       "    }\n",
       "</style>\n",
       "<table border=\"1\" class=\"dataframe\">\n",
       "  <thead>\n",
       "    <tr style=\"text-align: right;\">\n",
       "      <th></th>\n",
       "      <th>corpus</th>\n",
       "      <th>Tokens</th>\n",
       "    </tr>\n",
       "    <tr>\n",
       "      <th>Type</th>\n",
       "      <th></th>\n",
       "      <th></th>\n",
       "    </tr>\n",
       "  </thead>\n",
       "  <tbody>\n",
       "    <tr>\n",
       "      <th>INTJ</th>\n",
       "      <td>Imaginative and strategic thinkers, with a pla...</td>\n",
       "      <td>[imaginative, strategic, thinker, plan, everyt...</td>\n",
       "    </tr>\n",
       "    <tr>\n",
       "      <th>INTP</th>\n",
       "      <td>Innovative inventors with an unquenchable thir...</td>\n",
       "      <td>[innovative, inventor, unquenchable, thirst, k...</td>\n",
       "    </tr>\n",
       "    <tr>\n",
       "      <th>ENTJ</th>\n",
       "      <td>Bold, imaginative and strong-willed leaders, a...</td>\n",
       "      <td>[bold, imaginative, leader, always, finding, w...</td>\n",
       "    </tr>\n",
       "  </tbody>\n",
       "</table>\n",
       "</div>"
      ],
      "text/plain": [
       "                                                 corpus  \\\n",
       "Type                                                      \n",
       "INTJ  Imaginative and strategic thinkers, with a pla...   \n",
       "INTP  Innovative inventors with an unquenchable thir...   \n",
       "ENTJ  Bold, imaginative and strong-willed leaders, a...   \n",
       "\n",
       "                                                 Tokens  \n",
       "Type                                                     \n",
       "INTJ  [imaginative, strategic, thinker, plan, everyt...  \n",
       "INTP  [innovative, inventor, unquenchable, thirst, k...  \n",
       "ENTJ  [bold, imaginative, leader, always, finding, w...  "
      ]
     },
     "execution_count": 210,
     "metadata": {},
     "output_type": "execute_result"
    }
   ],
   "source": [
    "# concatenating sections preprocessed tokens \n",
    "# we can obtain the full-text preprocessed tokens\n",
    "df_types_ft[\"Tokens\"] = df_types_sects.groupby('Type')['Tokens'].apply(\n",
    "    lambda x: list(chain.from_iterable(x)))\n",
    "\n",
    "df_types_ft.head(3)"
   ]
  },
  {
   "cell_type": "code",
   "execution_count": 211,
   "metadata": {},
   "outputs": [],
   "source": [
    "# ------------------------------\n",
    "# 2) frequency dictionary building:\n",
    "#   define a function to build a frequency dictionary \n",
    "#   and apply it both at section and type level\n",
    "\n",
    "def build_doc_freq_dict(\n",
    "        df: pd.DataFrame, \n",
    "        tokens_colname: str) -> Dict[str, Dict[str, int]]:\n",
    "    \"\"\"\n",
    "    Build a (frequency) dictionary from the dataframe structured\n",
    "    in 2 levels: \n",
    "    - in the first level, the key is a token, the value is a dictionary\n",
    "        of all the document occurrences of that token\n",
    "    - in the second level, the key is the index of the document and\n",
    "        the value the number of occurrences of the token in that document\n",
    "    \"\"\"\n",
    "\n",
    "    d = defaultdict(dict)\n",
    "\n",
    "    for idx, tokens in df[tokens_colname].items():\n",
    "\n",
    "        # count occurrences in this document\n",
    "        counter = Counter(tokens)\n",
    "        for t in counter:\n",
    "            d[t][idx] = counter[t]\n",
    "\n",
    "    return dict(d)\n",
    "\n",
    "\n",
    "# build a frequency dictionary (both section and type level)\n",
    "sect_lv_dict = build_doc_freq_dict(df_types_sects, 'Tokens')\n",
    "type_lv_dict = build_doc_freq_dict(df_types_ft, 'Tokens')\n"
   ]
  },
  {
   "cell_type": "code",
   "execution_count": 212,
   "metadata": {},
   "outputs": [],
   "source": [
    "# ------------------------------\n",
    "# 3) token scoring\n",
    "#   calculate both TF-IDF scores and\n",
    "#   simple frequency scores\n",
    "\n",
    "\n",
    "def tf_idf(\n",
    "        freq_dict: Dict[str, Dict[str, int]], \n",
    "        doclens: Dict[str, int]\n",
    "        ) -> Dict[str, Dict[str, float]]: \n",
    "    \"\"\"\n",
    "    Calculate TF-IDF scores for each token in each document. \n",
    "    Args: \n",
    "        freq_dict: dictionary with tokens frequencies in each document\n",
    "            (on base level you have tokens, on second level you have documents)\n",
    "        doclen: dictionary with documents lengths\n",
    "    Returns:\n",
    "        a dictionary with tokens scores in each document \n",
    "            (on base level you have documents, on second level you have tokens)\n",
    "    \"\"\"\n",
    "\n",
    "    m_docs = len(freq_dict)\n",
    "\n",
    "    tf_idf = defaultdict(dict)\n",
    "\n",
    "    for token in freq_dict.keys():\n",
    "\n",
    "        # calculate idf for this token\n",
    "        idf = np.log(m_docs/len(freq_dict[token]))\n",
    "\n",
    "        # calculate tf-idf for each document where the token occurs\n",
    "        for doc in freq_dict[token].keys():\n",
    "            tf_idf[doc][token] = (freq_dict[token][doc]/doclens[doc]) * idf\n",
    "\n",
    "    return dict(tf_idf)\n",
    "\n",
    "def simple_frequencies(\n",
    "        freq_dict: Dict[str, Dict[str, int]], \n",
    "        doclens: Dict[str, int]\n",
    "        ) -> Dict[str, Dict[str, float]]:\n",
    "    \n",
    "    \"\"\"\n",
    "    Calculate simple frequency scores for each token in each document.\n",
    "\n",
    "    Args:\n",
    "        freq_dict: dictionary with tokens frequencies in each document\n",
    "            (on base level you have tokens, on second level you have documents)\n",
    "        doclen: dictionary with documents lengths\n",
    "\n",
    "    Returns:\n",
    "        a dictionary with tokens scores in each document \n",
    "            (on base level you have documents, on second level you have tokens)\n",
    "    \"\"\"\n",
    "\n",
    "    res = defaultdict(dict)\n",
    "\n",
    "    for token in freq_dict.keys():\n",
    "        for doc in freq_dict[token].keys():\n",
    "            res[doc][token] = freq_dict[token][doc]/doclens[doc]\n",
    "\n",
    "    return dict(res)\n",
    "\n",
    "sect_tfidf_scores = tf_idf(sect_lv_dict, dict(df_types_sects['Tokens'].apply(len)))\n",
    "type_tfidf_scores = tf_idf(type_lv_dict, dict(df_types_ft['Tokens'].apply(len)))\n",
    "sect_freq_scores = simple_frequencies(sect_lv_dict, dict(df_types_sects['Tokens'].apply(len)))\n",
    "type_freq_scores = simple_frequencies(type_lv_dict, dict(df_types_ft['Tokens'].apply(len)))"
   ]
  },
  {
   "cell_type": "code",
   "execution_count": 213,
   "metadata": {},
   "outputs": [],
   "source": [
    "# ------------------------------\n",
    "# 4) sentence scoring:\n",
    "#   define a sentence scoring function and apply it \n",
    "#   using various token scores \n",
    "\n",
    "\n",
    "def score_sentences(\n",
    "        corpus: str, \n",
    "        token_scores: Dict[str, float],\n",
    "        sentence_preprocesser: Callable[[str], List[str]], \n",
    "        scores_normalizer: Callable[[List[float]], List[float]] = None\n",
    "        ) -> List[Tuple[str, float]]: \n",
    "    \n",
    "    \"\"\"\n",
    "    Score sentences in a corpus according to passed tokens scores.\n",
    "\n",
    "    Args:\n",
    "        corpus: corpus from which sentences are extracted and scored\n",
    "        token_scores: dictionary with tokens scores\n",
    "        sentence_preprocesser: function to preprocess each sentence\n",
    "        scores_normalizer: function to eventually normalize scores. If None,\n",
    "            no normalization is applied.\n",
    "    Returns:\n",
    "        A list of tuples, where each tuple is a sentence and its score. \n",
    "        Ordering is the same as the one of the sentences in the corpus.\n",
    "    \"\"\"\n",
    "\n",
    "    # extract sentences from the corpus\n",
    "    sentences = nltk.sent_tokenize(corpus)\n",
    "\n",
    "    scored_sentences = []\n",
    "    for sentence in sentences:\n",
    "\n",
    "        s = 0\n",
    "        length = 0 \n",
    "        \n",
    "        # preprocess sentence and extract tokens\n",
    "        for token in sentence_preprocesser(sentence):\n",
    "\n",
    "            # sum-up found tokens scores\n",
    "            if token in token_scores:\n",
    "                s += token_scores[token]\n",
    "                length += 1\n",
    "\n",
    "        # compute average score\n",
    "        if length > 0:\n",
    "            scored_sentences.append((sentence, s/length))\n",
    "        else:\n",
    "            scored_sentences.append((sentence, 0))\n",
    "\n",
    "    if not scores_normalizer is None:\n",
    "        scores = [s for _, s in scored_sentences]\n",
    "        scores = scores_normalizer(scores)\n",
    "        scored_sentences = [(s, score) for s, score in zip(sentences, scores)]\n",
    "\n",
    "    return scored_sentences\n",
    "\n",
    "# define a sentence preprocesser function\n",
    "sentence_preprocesser = lambda x: preprocessing(x, n_ngrams=2)\n",
    "\n",
    "# define a normalization function\n",
    "def minmax_norm(scores: List[float]) -> List[float]:\n",
    "    \"\"\"\n",
    "    Normalize scores between 0 and 1.\n",
    "    \"\"\"\n",
    "    min_s = np.min(scores)\n",
    "    max_s = np.max(scores)\n",
    "\n",
    "    return [(s - min_s)/(max_s - min_s) for s in scores]\n",
    "\n",
    "# default function to quickly apply sentence scoring to a dataframe\n",
    "def apply_sentence_scoring_to_df(\n",
    "        df: pd.DataFrame,\n",
    "        token_scores: Dict[str, Dict[str, float]],\n",
    "        sentence_preprocesser: Callable[[str], List[str]] = sentence_preprocesser,\n",
    "        scores_normalizer: Callable[[List[float]], List[float]] = minmax_norm\n",
    "        ) -> pd.Series:\n",
    "    \n",
    "    return df.apply(\n",
    "        lambda row: score_sentences(\n",
    "            row['corpus'], \n",
    "            token_scores[row.name], \n",
    "            sentence_preprocesser, \n",
    "            scores_normalizer), axis=1)"
   ]
  },
  {
   "cell_type": "markdown",
   "metadata": {},
   "source": [
    "NOTE: we apply a min-max normalization so scores are between 0 and 1"
   ]
  },
  {
   "cell_type": "markdown",
   "metadata": {},
   "source": [
    "**Remark**\n",
    "\n",
    "Now we have four combinations:\n",
    "\n",
    "- full-text corpus vs one corpus for each section\n",
    "- discriminant scores (TF.IDF) vs simple frequency scores\n",
    "\n",
    "We start working just on full-text corpus. "
   ]
  },
  {
   "cell_type": "code",
   "execution_count": 214,
   "metadata": {},
   "outputs": [],
   "source": [
    "# score sentences on full-text\n",
    "# [Needed time: 30 seconds]\n",
    "\n",
    "type_scored_sentences_freq = apply_sentence_scoring_to_df(\n",
    "    df_types_ft, type_freq_scores)\n",
    "\n",
    "type_scored_sentences_tfidf = apply_sentence_scoring_to_df(\n",
    "    df_types_ft, type_tfidf_scores)\n"
   ]
  },
  {
   "cell_type": "markdown",
   "metadata": {},
   "source": [
    "Let's plot the scores distribution for each type and count how many sentences are above a certain treshold. "
   ]
  },
  {
   "cell_type": "code",
   "execution_count": 215,
   "metadata": {},
   "outputs": [
    {
     "name": "stdout",
     "output_type": "stream",
     "text": [
      "Average Nr. of sentences per type:\t 176.1875\n",
      "Treshold:\t 0.6\n"
     ]
    },
    {
     "data": {
      "image/png": "[encoded data removed]",
      "text/plain": [
       "<Figure size 640x480 with 16 Axes>"
      ]
     },
     "metadata": {},
     "output_type": "display_data"
    }
   ],
   "source": [
    "def plot_scores_distrib(scores: pd.Series, treshold: float = None):\n",
    "\n",
    "    print(\"Average Nr. of sentences per type:\\t\", \n",
    "        scores.apply(len).mean())\n",
    "    \n",
    "    if treshold is not None:\n",
    "        print(\"Treshold:\\t\", treshold)\n",
    "\n",
    "    i = 1\n",
    "    for t in scores.keys():\n",
    "\n",
    "        t_scores = [score for (_, score) in scores[t]]\n",
    "\n",
    "        plt.subplot(4, 4, i)\n",
    "        plt.hist(\n",
    "            [score for (_, score) in scores[t]],\n",
    "            bins=20, \n",
    "            alpha=0.5, \n",
    "            label=t)\n",
    "        # plot mean as a vertical line\n",
    "        plt.axvline(np.mean(t_scores), color='k', linewidth=1)\n",
    "\n",
    "        # plot std deviation as vertical lines\n",
    "        plt.axvline(np.mean(t_scores) + np.std(t_scores), color='k', linestyle='dashed', linewidth=1)\n",
    "        plt.axvline(np.mean(t_scores) - np.std(t_scores), color='k', linestyle='dashed', linewidth=1)\n",
    "        plt.title(t, fontsize=10)\n",
    "\n",
    "        # if we have a treshold, count how many sentences are above it\n",
    "        if treshold is not None:\n",
    "            n_above_tr = len([\n",
    "                score for score in t_scores \n",
    "                if score > treshold ])\n",
    "            plt.xlabel(\"(n above tr: \" + str(n_above_tr) + \")\")\n",
    "\n",
    "        plt.tight_layout()\n",
    "        i += 1\n",
    "\n",
    "plot_scores_distrib(type_scored_sentences_tfidf, treshold=0.6)\n"
   ]
  },
  {
   "cell_type": "code",
   "execution_count": 216,
   "metadata": {},
   "outputs": [
    {
     "name": "stdout",
     "output_type": "stream",
     "text": [
      "Average Nr. of sentences per type:\t 176.1875\n",
      "Treshold:\t 0.6\n"
     ]
    },
    {
     "data": {
      "image/png": "[encoded data removed]",
      "text/plain": [
       "<Figure size 640x480 with 16 Axes>"
      ]
     },
     "metadata": {},
     "output_type": "display_data"
    }
   ],
   "source": [
    "plot_scores_distrib(type_scored_sentences_freq, treshold=0.6)"
   ]
  },
  {
   "cell_type": "markdown",
   "metadata": {},
   "source": [
    "**Observations**: \n",
    "\n",
    "- we can see that the distribution of scores is very different for each type\n",
    "- we can see that this happens both with discriminant scores and with simple frequency scores\n",
    "- (min-max normalization is not enough to uniform the distributions)\n",
    "\n",
    "**Consequences**:\n",
    " \n",
    "- to produce summaries (at least on full-texts) we cannot rely on a single treshold for all types\n",
    "- we could use a classic mean + standard deviation normalization, or equivalently we can use a treshold based on some of those measures:\n",
    "  - quantiles (so we obtain a sort of relative top-k sentences)\n",
    "  - a treshold based on the mean + standard deviation (e.g., $mean + 1.5 * std$)"
   ]
  },
  {
   "cell_type": "code",
   "execution_count": 217,
   "metadata": {},
   "outputs": [
    {
     "name": "stderr",
     "output_type": "stream",
     "text": [
      "C:\\Users\\Proprietario\\AppData\\Local\\Temp\\ipykernel_6276\\3683853533.py:69: RuntimeWarning: invalid value encountered in scalar divide\n",
      "  return [(s - min_s)/(max_s - min_s) for s in scores]\n"
     ]
    }
   ],
   "source": [
    "# apply sentence scoring also to sections\n",
    "# [Needed time: 30 seconds]\n",
    "\n",
    "sect_scored_sentences_freq = apply_sentence_scoring_to_df(\n",
    "    df_types_sects, sect_freq_scores)\n",
    "\n",
    "sect_scored_sentences_tfidf = apply_sentence_scoring_to_df(\n",
    "    df_types_sects, sect_tfidf_scores)"
   ]
  },
  {
   "cell_type": "code",
   "execution_count": 218,
   "metadata": {},
   "outputs": [],
   "source": [
    "\n",
    "def calculate_treshold(sentences: List[Tuple[str, float]], alpha: float = 1) -> float:\n",
    "    \"\"\"Calculate a treshold for a list of scored sentences\n",
    "    which depends on the mean and standard deviation of the scores. \n",
    "    \n",
    "    The treshold is calculated as: mean + alpha*std_deviation\"\"\"\n",
    "\n",
    "    scores = [score for _, score in sentences]\n",
    "    return np.mean(scores) + alpha*np.std(scores)\n",
    "\n",
    "\n",
    "def summarize_by_treshold(\n",
    "        sentences: List[Tuple[str, float]], \n",
    "        treshold: float, \n",
    "        sep: str=\" \") -> str:\n",
    "    \"\"\"Select only sentences with a score above a certain treshold\n",
    "    and merge them in an unique summary\"\"\"\n",
    "\n",
    "    summary = \"\"\n",
    "    for sentence, score in sentences:\n",
    "        if score > treshold:\n",
    "            summary += sentence + sep\n",
    "\n",
    "    return summary\n",
    "\n",
    "def save_summary(summary: str, type_name: str, method: str) -> None:\n",
    "    \"\"\"Save a summary in a text file\"\"\"\n",
    "\n",
    "    if not os.path.exists(f'data/summary/{method}'):\n",
    "        os.makedirs(f'data/summary/{method}')\n",
    "\n",
    "    with open(f'data/summary/{method}/{type_name}.txt', 'w') as f:\n",
    "        f.write(summary)\n",
    "\n",
    "# Apply summarization to some sample types\n",
    "\n",
    "sample_types = types.index \n",
    "# sample_types = ['INTJ', 'ENFP', 'ISFJ']\n",
    "\n",
    "sentences_scores = {\n",
    "    \"fulltext/freq\": type_scored_sentences_freq, \n",
    "    \"fulltext/tfidf\": type_scored_sentences_tfidf, \n",
    "    }\n",
    "\n",
    "fulltext_summaries = defaultdict(dict)\n",
    "\n",
    "for t in sample_types:\n",
    "    for method, scores in sentences_scores.items():\n",
    "        tr = calculate_treshold(scores[t], alpha=1.5)\n",
    "        s = summarize_by_treshold(scores[t], tr, sep=\"\\n\")\n",
    "        fulltext_summaries[t][method] = s\n",
    "        save_summary(s, t, method)\n",
    "        "
   ]
  },
  {
   "cell_type": "markdown",
   "metadata": {},
   "source": [
    "Display two summaries as examples: "
   ]
  },
  {
   "cell_type": "code",
   "execution_count": 219,
   "metadata": {},
   "outputs": [
    {
     "name": "stdout",
     "output_type": "stream",
     "text": [
      "INTJ - tfidf based summary\n",
      "\n",
      "Architects question everything.\n",
      "But ever-skeptical Architects prefer to make their own discoveries.\n",
      "Architects want to be successful, not just inventive.\n",
      "Architects aren’t known for being warm and fuzzy.\n",
      "This personality type is full of contradictions.\n",
      "Rational – Architects pride themselves on their minds.\n",
      "Informed – Few personality types are as devoted as Architects to forming rational, evidence-based opinions.\n",
      "Creative and self-motivated, Architects strive to do things their own way.\n",
      "Determined – Architect personalities are ambitious and goal-oriented.\n",
      "But this doesn’t mean that Architects are antisocial or friendless.\n",
      "Architects care about depth and quality.\n",
      "It’s not always easy to befriend an Architect.\n",
      "Compared to other personality types, Architects aren’t especially comfortable with displays of affection.\n",
      "The truth is that Architects can excel in just about any role.\n",
      "And if any personality type has high standards for themselves, it’s almost certainly Architects.\n",
      "And in many ways, Architects are exactly that.\n",
      "But some personality types may find it a challenge to work with Architects.\n",
      "Architects are known for their independence.\n",
      "Those strategies rarely work with Architect personalities.\n",
      "But embracing that disconnect isn’t a requirement for Architects.\n",
      "\n"
     ]
    }
   ],
   "source": [
    "print(\"INTJ - tfidf based summary\\n\")\n",
    "print(fulltext_summaries['INTJ']['fulltext/tfidf'])"
   ]
  },
  {
   "cell_type": "code",
   "execution_count": 220,
   "metadata": {},
   "outputs": [
    {
     "name": "stdout",
     "output_type": "stream",
     "text": [
      "ENFP - frequency based summary\n",
      "\n",
      "The Campaigner personality is a true free spirit.\n",
      "These personality types may never be able to reciprocate the breadth of human interest that Campaigners present, but they do appreciate Campaigners’ efforts.\n",
      "This can be a challenge for people with the Campaigner personality type – they have strong emotions, and invest those emotions heavily in the things and people they care about.\n",
      "People with the Campaigner personality type possess warmth, creativity, and an open-mindedness that makes them excellent listeners.\n",
      "Campaigners are growth-oriented, and as subordinates they’ll impress their managers with their creativity and adaptability.\n",
      "People with the Campaigner personality type are excellent listeners, able to analyze and understand others’ perspectives effortlessly.\n",
      "People with the Campaigner personality type are warm and optimistic, always searching for and usually finding win-win situations for everyone.\n",
      "Few personality types are as creative and charismatic as Campaigners.\n",
      "What you have read so far is just an introduction into the complex concept that is the Campaigner personality type.\n",
      "Are you ready to learn why Campaigners act in the way they do?\n",
      "\n"
     ]
    }
   ],
   "source": [
    "print(\"ENFP - frequency based summary\\n\")\n",
    "print(fulltext_summaries['ENFP']['fulltext/freq'])"
   ]
  },
  {
   "cell_type": "markdown",
   "metadata": {},
   "source": [
    "### Interesting possible developments\n",
    "\n",
    "- comparative summaries (using tf.idf scores on only 2 types to enligthen their differences)\n"
   ]
  },
  {
   "attachments": {},
   "cell_type": "markdown",
   "metadata": {},
   "source": [
    "## Clustering and grouping of MBTI types\n",
    "\n",
    "> Can we group the MBTI types in clusters? Are there any similarities emerging from the types descriptions?\n",
    "\n",
    "**Tools and techniques**: *clustering, PCA*"
   ]
  },
  {
   "cell_type": "markdown",
   "metadata": {},
   "source": [
    "### Proposed solution and work pipeline\n",
    "\n",
    "**Proposed solution**: use a clustering algorithm on a TF-IDF representation of the (full-text) corpus of each type and plot the results using a PCA. To endeep the difference between types, we can also use part-of-speech tagging to select only nouns, verbs and adjectives and try to cluster only them.\n",
    "\n",
    "**Work pipeline**:\n",
    "\n",
    "- preprocessing (as before, but without n-grams)\n",
    "  - alternatively, another preprocessing based on part-of-speech tagging to extract only some parts of speech (e.g., nouns, verbs, adjectives)\n",
    "- generate a TF-IDF representation of the corpus (applying appropriate filters)\n",
    "- apply a clustering algorithm (e.g., K-Means)\n",
    "- apply a PCA to plot the results in a 2D space\n"
   ]
  },
  {
   "cell_type": "markdown",
   "metadata": {},
   "source": [
    "### Alternative choices and issues\n",
    "\n",
    "**Alternative choices**:\n",
    "\n",
    "- experiment different kinds of clustering algorithms (e.g., K-Means vs hierarchical clustering)\n",
    "  - for now, we will focus just on K-Means\n",
    "- experiment different kinds of filters on features (e.g., min-max document frequency)\n",
    "- experiment what happens if we focus only on some parts of speech (e.g., nouns, verbs, adjectives)\n",
    "\n",
    "**Found issues**:"
   ]
  },
  {
   "cell_type": "code",
   "execution_count": 243,
   "metadata": {},
   "outputs": [],
   "source": [
    "# extract tokens from sentences and merge them in an unique text\n",
    "# [Needed time: 15 seconds]\n",
    "\n",
    "types_ft_tokens = df_types_ft[\"corpus\"].apply(\n",
    "    # we remove types letters and nicknames because they are over-represented\n",
    "    lambda x: preprocessing(x, other_stopwords=types_letters_and_nicknames)\n",
    "    ).apply(lambda x: \" \".join(x))"
   ]
  },
  {
   "cell_type": "code",
   "execution_count": 244,
   "metadata": {},
   "outputs": [],
   "source": [
    "def print_top_n_cluster_keywords(\n",
    "    X, \n",
    "    kmeans: KMeans,\n",
    "    types_names: List[str],\n",
    "    feature_names: List[str],\n",
    "    n_keywords: int = 10, ) -> None:\n",
    "    \"\"\"Print clusters and their top n_keywords\"\"\"\n",
    "\n",
    "    # build a temp df with types and clusters\n",
    "    df = pd.DataFrame(X.todense())\n",
    "    df['Cluster'] = kmeans.labels_\n",
    "    df['type'] = types_names\n",
    "    df.set_index('type', inplace=True)\n",
    "\n",
    "    # calculate the mean of each cluster\n",
    "    cluster_values = df.groupby('Cluster').mean()\n",
    "\n",
    "    # print clusters types and top n_keywords\n",
    "    for i,r in cluster_values.iterrows():\n",
    "        print(f\"Cluster {i}:\\t\", df[df[\"Cluster\"] == i].index.values)\n",
    "        print(\", \".join([feature_names[j] for j in np.argsort(r)[-n_keywords:]]))\n",
    "\n",
    "def plot_clusters_pca(\n",
    "    X,\n",
    "    kmeans: KMeans,\n",
    "    types_names: List[str], ) -> None:\n",
    "    \"\"\"Plot clusters in a 2D space using PCA\"\"\"\n",
    "\n",
    "    # apply PCA \n",
    "    pca_vecs = PCA(n_components=2, random_state=42).fit_transform(X.toarray())\n",
    "    x0 = pca_vecs[:,0]\n",
    "    x1 = pca_vecs[:,1]\n",
    "\n",
    "    # plot clusters in the 2D space\n",
    "    df = pd.DataFrame({\n",
    "        'PCA_X0': x0, \n",
    "        'PCA_X1': x1, \n",
    "        'Cluster': kmeans.labels_, \n",
    "        'type': types_names}).set_index('type')\n",
    "    \n",
    "    sns.scatterplot(data=df, x=\"PCA_X0\", y=\"PCA_X1\", hue=\"Cluster\", palette=\"tab10\")\n",
    "\n",
    "    plt.title(\"PCA of the 16 types vectors\")\n",
    "    plt.xlabel(\"PCA X0\")\n",
    "    plt.ylabel(\"PCA X1\")\n",
    "    \n",
    "    # add types labels to the points\n",
    "    def label_point(x, y, val, ax):\n",
    "        a = pd.DataFrame({'x': x, 'y': y, 'val': val})\n",
    "        for i, point in a.iterrows():\n",
    "            ax.text(point['x']+.02, point['y'], str(point['val']))\n",
    "\n",
    "    label_point(df[\"PCA_X0\"], df[\"PCA_X1\"], df.index, plt.gca())\n",
    "\n",
    "    plt.tight_layout()\n",
    "\n",
    "\n",
    "\n",
    "def kmeans_cluster_and_pca(\n",
    "    types_tokens: pd.Series,\n",
    "    n_clusters: int = 5,\n",
    "    n_keywords: int = 10,\n",
    "    ngram_range: Tuple[int, int]=(1,1), \n",
    "    min_df: int=1, \n",
    "    max_df: float=1.0) -> KMeans:\n",
    "\n",
    "    \"\"\"\n",
    "    Apply kmeans clustering algorithm to a series of texts and use\n",
    "    PCA to display the results in a 2D plot. It also prints found \n",
    "    clusters and their top n_keywords.\n",
    "\n",
    "    Args:\n",
    "        types_tokens: series of texts\n",
    "        n_clusters: number of clusters you want to extract\n",
    "        k_keywords: number of keywords to print from each cluster\n",
    "        ngram_range: range of ngrams to consider\n",
    "        min_df: minimum document frequency\n",
    "        max_df: maximum document frequency\n",
    "\n",
    "    Returns:\n",
    "        kmeans: fitted kmeans model\n",
    "    \"\"\"\n",
    "\n",
    "    # vectorize texts using tfidf and applying passed filters\n",
    "    vectorizer = TfidfVectorizer(ngram_range=ngram_range, min_df=min_df, max_df=max_df)\n",
    "    X = vectorizer.fit_transform(types_tokens)\n",
    "\n",
    "    # apply kmeans clustering\n",
    "    kmeans = KMeans(n_clusters=n_clusters, random_state=0, n_init='auto').fit(X)\n",
    "\n",
    "    # print clusters and their top n_keywords\n",
    "    print_top_n_cluster_keywords(\n",
    "        X, kmeans, \n",
    "        types_names=types_tokens.index, \n",
    "        feature_names=vectorizer.get_feature_names_out(), \n",
    "        n_keywords=n_keywords )\n",
    "\n",
    "    # apply PCA to reduce dimensionality to 2 and plot results\n",
    "    plot_clusters_pca(X, kmeans, types_tokens.index)\n",
    "\n",
    "    return kmeans\n",
    "    \n",
    "    "
   ]
  },
  {
   "cell_type": "code",
   "execution_count": 254,
   "metadata": {},
   "outputs": [
    {
     "name": "stdout",
     "output_type": "stream",
     "text": [
      "Cluster 0:\t ['ENTJ' 'ISTJ' 'ISFJ' 'ESTJ' 'ESFJ']\n",
      "clear, practical, tradition, done, authority, social, family, respect, responsibility, dedication\n",
      "Cluster 1:\t ['INTP' 'ENTP' 'ENFJ' 'ENFP']\n",
      "logic, freedom, natural, insight, chance, social, debate, thought, interest, intellectual\n",
      "Cluster 2:\t ['INTJ' 'INFJ' 'INFP']\n",
      "generally, perfect, grow, fortunately, insight, said, employee, may feel, value, might\n",
      "Cluster 3:\t ['ISTP' 'ISFP' 'ESTP' 'ESFP']\n",
      "action, day, experience, live, planning, relaxed, practical, fun, activity, moment\n"
     ]
    },
    {
     "data": {
      "text/html": [
       "<style>#sk-container-id-38 {color: black;}#sk-container-id-38 pre{padding: 0;}#sk-container-id-38 div.sk-toggleable {background-color: white;}#sk-container-id-38 label.sk-toggleable__label {cursor: pointer;display: block;width: 100%;margin-bottom: 0;padding: 0.3em;box-sizing: border-box;text-align: center;}#sk-container-id-38 label.sk-toggleable__label-arrow:before {content: \"▸\";float: left;margin-right: 0.25em;color: #696969;}#sk-container-id-38 label.sk-toggleable__label-arrow:hover:before {color: black;}#sk-container-id-38 div.sk-estimator:hover label.sk-toggleable__label-arrow:before {color: black;}#sk-container-id-38 div.sk-toggleable__content {max-height: 0;max-width: 0;overflow: hidden;text-align: left;background-color: #f0f8ff;}#sk-container-id-38 div.sk-toggleable__content pre {margin: 0.2em;color: black;border-radius: 0.25em;background-color: #f0f8ff;}#sk-container-id-38 input.sk-toggleable__control:checked~div.sk-toggleable__content {max-height: 200px;max-width: 100%;overflow: auto;}#sk-container-id-38 input.sk-toggleable__control:checked~label.sk-toggleable__label-arrow:before {content: \"▾\";}#sk-container-id-38 div.sk-estimator input.sk-toggleable__control:checked~label.sk-toggleable__label {background-color: #d4ebff;}#sk-container-id-38 div.sk-label input.sk-toggleable__control:checked~label.sk-toggleable__label {background-color: #d4ebff;}#sk-container-id-38 input.sk-hidden--visually {border: 0;clip: rect(1px 1px 1px 1px);clip: rect(1px, 1px, 1px, 1px);height: 1px;margin: -1px;overflow: hidden;padding: 0;position: absolute;width: 1px;}#sk-container-id-38 div.sk-estimator {font-family: monospace;background-color: #f0f8ff;border: 1px dotted black;border-radius: 0.25em;box-sizing: border-box;margin-bottom: 0.5em;}#sk-container-id-38 div.sk-estimator:hover {background-color: #d4ebff;}#sk-container-id-38 div.sk-parallel-item::after {content: \"\";width: 100%;border-bottom: 1px solid gray;flex-grow: 1;}#sk-container-id-38 div.sk-label:hover label.sk-toggleable__label {background-color: #d4ebff;}#sk-container-id-38 div.sk-serial::before {content: \"\";position: absolute;border-left: 1px solid gray;box-sizing: border-box;top: 0;bottom: 0;left: 50%;z-index: 0;}#sk-container-id-38 div.sk-serial {display: flex;flex-direction: column;align-items: center;background-color: white;padding-right: 0.2em;padding-left: 0.2em;position: relative;}#sk-container-id-38 div.sk-item {position: relative;z-index: 1;}#sk-container-id-38 div.sk-parallel {display: flex;align-items: stretch;justify-content: center;background-color: white;position: relative;}#sk-container-id-38 div.sk-item::before, #sk-container-id-38 div.sk-parallel-item::before {content: \"\";position: absolute;border-left: 1px solid gray;box-sizing: border-box;top: 0;bottom: 0;left: 50%;z-index: -1;}#sk-container-id-38 div.sk-parallel-item {display: flex;flex-direction: column;z-index: 1;position: relative;background-color: white;}#sk-container-id-38 div.sk-parallel-item:first-child::after {align-self: flex-end;width: 50%;}#sk-container-id-38 div.sk-parallel-item:last-child::after {align-self: flex-start;width: 50%;}#sk-container-id-38 div.sk-parallel-item:only-child::after {width: 0;}#sk-container-id-38 div.sk-dashed-wrapped {border: 1px dashed gray;margin: 0 0.4em 0.5em 0.4em;box-sizing: border-box;padding-bottom: 0.4em;background-color: white;}#sk-container-id-38 div.sk-label label {font-family: monospace;font-weight: bold;display: inline-block;line-height: 1.2em;}#sk-container-id-38 div.sk-label-container {text-align: center;}#sk-container-id-38 div.sk-container {/* jupyter's `normalize.less` sets `[hidden] { display: none; }` but bootstrap.min.css set `[hidden] { display: none !important; }` so we also need the `!important` here to be able to override the default hidden behavior on the sphinx rendered scikit-learn.org. See: https://github.com/scikit-learn/scikit-learn/issues/21755 */display: inline-block !important;position: relative;}#sk-container-id-38 div.sk-text-repr-fallback {display: none;}</style><div id=\"sk-container-id-38\" class=\"sk-top-container\"><div class=\"sk-text-repr-fallback\"><pre>KMeans(n_clusters=4, n_init=&#x27;auto&#x27;, random_state=0)</pre><b>In a Jupyter environment, please rerun this cell to show the HTML representation or trust the notebook. <br />On GitHub, the HTML representation is unable to render, please try loading this page with nbviewer.org.</b></div><div class=\"sk-container\" hidden><div class=\"sk-item\"><div class=\"sk-estimator sk-toggleable\"><input class=\"sk-toggleable__control sk-hidden--visually\" id=\"sk-estimator-id-38\" type=\"checkbox\" checked><label for=\"sk-estimator-id-38\" class=\"sk-toggleable__label sk-toggleable__label-arrow\">KMeans</label><div class=\"sk-toggleable__content\"><pre>KMeans(n_clusters=4, n_init=&#x27;auto&#x27;, random_state=0)</pre></div></div></div></div></div>"
      ],
      "text/plain": [
       "KMeans(n_clusters=4, n_init='auto', random_state=0)"
      ]
     },
     "execution_count": 254,
     "metadata": {},
     "output_type": "execute_result"
    },
    {
     "data": {
      "image/png": "[encoded data removed]",
      "text/plain": [
       "<Figure size 640x480 with 1 Axes>"
      ]
     },
     "metadata": {},
     "output_type": "display_data"
    }
   ],
   "source": [
    "# Clustering Nr 01: initial setting that gives a decent result\n",
    "kmeans_cluster_and_pca(\n",
    "    types_ft_tokens, \n",
    "    n_clusters=4, \n",
    "    n_keywords=10, \n",
    "    ngram_range=(1,2), \n",
    "    min_df=3, max_df=0.9, \n",
    "    )"
   ]
  },
  {
   "cell_type": "markdown",
   "metadata": {},
   "source": [
    "Observations: \n",
    "\n",
    "- the clusters seems meaningful (both according to grouping and to )\n",
    "  - 0: \"tradition and authority\" oriented types\n",
    "  - 1: \"logic, intellect and debate\" oriented types\n",
    "  - 2: \"insight and value\" oriented types\n",
    "  - 3: \"action and experience\" oriented types\n",
    "- the position of the dots in the first two PCA dimensions seems related to what we found in clustering\n",
    "  - $X_0$ axis seems related to \"intuition\" VS \"sensation\"\n",
    "  - $X_1$ axis seems related to \"perceiving\" VS \"judging\"\n",
    "- some cluster are more concentrated in PCA space than others\n",
    "\n",
    "\n",
    "...but are we sure that the clustering is really meaningful?"
   ]
  },
  {
   "cell_type": "markdown",
   "metadata": {},
   "source": [
    "### Experiment more min-max document frequency filters"
   ]
  },
  {
   "cell_type": "code",
   "execution_count": 248,
   "metadata": {},
   "outputs": [
    {
     "name": "stdout",
     "output_type": "stream",
     "text": [
      "Cluster 0:\t ['ENTJ' 'ISTJ' 'ESTJ']\n",
      "relationship, others, often, work, people personality, make, personality type, type, people, personality\n",
      "Cluster 1:\t ['ISFJ' 'ESFJ']\n",
      "friend, take, often, social, make, need, personality type, type, people, personality\n",
      "Cluster 2:\t ['INTJ' 'INTP' 'ENTP' 'INFJ' 'INFP' 'ENFJ' 'ENFP']\n",
      "idea, even, find, need, people personality, may, personality type, type, people, personality\n",
      "Cluster 3:\t ['ISTP' 'ISFP' 'ESTP' 'ESFP']\n",
      "come, child, people personality, make, thing, need, personality type, people, type, personality\n"
     ]
    },
    {
     "data": {
      "text/html": [
       "<style>#sk-container-id-32 {color: black;}#sk-container-id-32 pre{padding: 0;}#sk-container-id-32 div.sk-toggleable {background-color: white;}#sk-container-id-32 label.sk-toggleable__label {cursor: pointer;display: block;width: 100%;margin-bottom: 0;padding: 0.3em;box-sizing: border-box;text-align: center;}#sk-container-id-32 label.sk-toggleable__label-arrow:before {content: \"▸\";float: left;margin-right: 0.25em;color: #696969;}#sk-container-id-32 label.sk-toggleable__label-arrow:hover:before {color: black;}#sk-container-id-32 div.sk-estimator:hover label.sk-toggleable__label-arrow:before {color: black;}#sk-container-id-32 div.sk-toggleable__content {max-height: 0;max-width: 0;overflow: hidden;text-align: left;background-color: #f0f8ff;}#sk-container-id-32 div.sk-toggleable__content pre {margin: 0.2em;color: black;border-radius: 0.25em;background-color: #f0f8ff;}#sk-container-id-32 input.sk-toggleable__control:checked~div.sk-toggleable__content {max-height: 200px;max-width: 100%;overflow: auto;}#sk-container-id-32 input.sk-toggleable__control:checked~label.sk-toggleable__label-arrow:before {content: \"▾\";}#sk-container-id-32 div.sk-estimator input.sk-toggleable__control:checked~label.sk-toggleable__label {background-color: #d4ebff;}#sk-container-id-32 div.sk-label input.sk-toggleable__control:checked~label.sk-toggleable__label {background-color: #d4ebff;}#sk-container-id-32 input.sk-hidden--visually {border: 0;clip: rect(1px 1px 1px 1px);clip: rect(1px, 1px, 1px, 1px);height: 1px;margin: -1px;overflow: hidden;padding: 0;position: absolute;width: 1px;}#sk-container-id-32 div.sk-estimator {font-family: monospace;background-color: #f0f8ff;border: 1px dotted black;border-radius: 0.25em;box-sizing: border-box;margin-bottom: 0.5em;}#sk-container-id-32 div.sk-estimator:hover {background-color: #d4ebff;}#sk-container-id-32 div.sk-parallel-item::after {content: \"\";width: 100%;border-bottom: 1px solid gray;flex-grow: 1;}#sk-container-id-32 div.sk-label:hover label.sk-toggleable__label {background-color: #d4ebff;}#sk-container-id-32 div.sk-serial::before {content: \"\";position: absolute;border-left: 1px solid gray;box-sizing: border-box;top: 0;bottom: 0;left: 50%;z-index: 0;}#sk-container-id-32 div.sk-serial {display: flex;flex-direction: column;align-items: center;background-color: white;padding-right: 0.2em;padding-left: 0.2em;position: relative;}#sk-container-id-32 div.sk-item {position: relative;z-index: 1;}#sk-container-id-32 div.sk-parallel {display: flex;align-items: stretch;justify-content: center;background-color: white;position: relative;}#sk-container-id-32 div.sk-item::before, #sk-container-id-32 div.sk-parallel-item::before {content: \"\";position: absolute;border-left: 1px solid gray;box-sizing: border-box;top: 0;bottom: 0;left: 50%;z-index: -1;}#sk-container-id-32 div.sk-parallel-item {display: flex;flex-direction: column;z-index: 1;position: relative;background-color: white;}#sk-container-id-32 div.sk-parallel-item:first-child::after {align-self: flex-end;width: 50%;}#sk-container-id-32 div.sk-parallel-item:last-child::after {align-self: flex-start;width: 50%;}#sk-container-id-32 div.sk-parallel-item:only-child::after {width: 0;}#sk-container-id-32 div.sk-dashed-wrapped {border: 1px dashed gray;margin: 0 0.4em 0.5em 0.4em;box-sizing: border-box;padding-bottom: 0.4em;background-color: white;}#sk-container-id-32 div.sk-label label {font-family: monospace;font-weight: bold;display: inline-block;line-height: 1.2em;}#sk-container-id-32 div.sk-label-container {text-align: center;}#sk-container-id-32 div.sk-container {/* jupyter's `normalize.less` sets `[hidden] { display: none; }` but bootstrap.min.css set `[hidden] { display: none !important; }` so we also need the `!important` here to be able to override the default hidden behavior on the sphinx rendered scikit-learn.org. See: https://github.com/scikit-learn/scikit-learn/issues/21755 */display: inline-block !important;position: relative;}#sk-container-id-32 div.sk-text-repr-fallback {display: none;}</style><div id=\"sk-container-id-32\" class=\"sk-top-container\"><div class=\"sk-text-repr-fallback\"><pre>KMeans(n_clusters=4, n_init=&#x27;auto&#x27;, random_state=0)</pre><b>In a Jupyter environment, please rerun this cell to show the HTML representation or trust the notebook. <br />On GitHub, the HTML representation is unable to render, please try loading this page with nbviewer.org.</b></div><div class=\"sk-container\" hidden><div class=\"sk-item\"><div class=\"sk-estimator sk-toggleable\"><input class=\"sk-toggleable__control sk-hidden--visually\" id=\"sk-estimator-id-32\" type=\"checkbox\" checked><label for=\"sk-estimator-id-32\" class=\"sk-toggleable__label sk-toggleable__label-arrow\">KMeans</label><div class=\"sk-toggleable__content\"><pre>KMeans(n_clusters=4, n_init=&#x27;auto&#x27;, random_state=0)</pre></div></div></div></div></div>"
      ],
      "text/plain": [
       "KMeans(n_clusters=4, n_init='auto', random_state=0)"
      ]
     },
     "execution_count": 248,
     "metadata": {},
     "output_type": "execute_result"
    },
    {
     "data": {
      "image/png": "[encoded data removed]",
      "text/plain": [
       "<Figure size 640x480 with 1 Axes>"
      ]
     },
     "metadata": {},
     "output_type": "display_data"
    }
   ],
   "source": [
    "# Clustering Nr. 02: no frequency filters\n",
    "kmeans_cluster_and_pca(\n",
    "    types_ft_tokens, \n",
    "    n_clusters=4, \n",
    "    n_keywords=10, \n",
    "    ngram_range=(1,2), )"
   ]
  },
  {
   "cell_type": "markdown",
   "metadata": {},
   "source": [
    "Observations:\n",
    "\n",
    "- removing all frequency filters brings to different results\n",
    "  - all \"big intuitives\" are grouped together in cluster 2\n",
    "  - cluster 3 (\"sensorial\" types) is the same\n",
    "  - the precedent cluster 0 (\"tradition and authority\") is now splitted in two: 0 and 1\n",
    "- top 10 mean words are less discriminant than before \n",
    "  - (all clusters seems described by very generic words like \"type\", \"personality\", etc.)\n",
    "- dots in PCA space are less concentrated than before"
   ]
  },
  {
   "cell_type": "code",
   "execution_count": 255,
   "metadata": {},
   "outputs": [
    {
     "name": "stdout",
     "output_type": "stream",
     "text": [
      "Cluster 0:\t ['ENTJ' 'ISTJ' 'ISFJ' 'ESTJ' 'ESFJ']\n",
      "standard, stable, loyalty, duty, established, tradition, authority, family, respect, dedication\n",
      "Cluster 1:\t ['INTP' 'ENTP' 'ENFJ' 'ENFP']\n",
      "bring, theory, analyst, conversation, genuine, logic, insight, chance, debate, intellectual\n",
      "Cluster 2:\t ['INTJ' 'INFJ' 'INFP']\n",
      "may find, inner, independence, ideal, perfect, generally, fortunately, said, insight, employee\n",
      "Cluster 3:\t ['ISTP' 'ISFP' 'ESTP' 'ESFP']\n",
      "joy, excitement, spontaneity, habit, charming, style, exciting, planning, relaxed, fun\n"
     ]
    },
    {
     "data": {
      "text/html": [
       "<style>#sk-container-id-39 {color: black;}#sk-container-id-39 pre{padding: 0;}#sk-container-id-39 div.sk-toggleable {background-color: white;}#sk-container-id-39 label.sk-toggleable__label {cursor: pointer;display: block;width: 100%;margin-bottom: 0;padding: 0.3em;box-sizing: border-box;text-align: center;}#sk-container-id-39 label.sk-toggleable__label-arrow:before {content: \"▸\";float: left;margin-right: 0.25em;color: #696969;}#sk-container-id-39 label.sk-toggleable__label-arrow:hover:before {color: black;}#sk-container-id-39 div.sk-estimator:hover label.sk-toggleable__label-arrow:before {color: black;}#sk-container-id-39 div.sk-toggleable__content {max-height: 0;max-width: 0;overflow: hidden;text-align: left;background-color: #f0f8ff;}#sk-container-id-39 div.sk-toggleable__content pre {margin: 0.2em;color: black;border-radius: 0.25em;background-color: #f0f8ff;}#sk-container-id-39 input.sk-toggleable__control:checked~div.sk-toggleable__content {max-height: 200px;max-width: 100%;overflow: auto;}#sk-container-id-39 input.sk-toggleable__control:checked~label.sk-toggleable__label-arrow:before {content: \"▾\";}#sk-container-id-39 div.sk-estimator input.sk-toggleable__control:checked~label.sk-toggleable__label {background-color: #d4ebff;}#sk-container-id-39 div.sk-label input.sk-toggleable__control:checked~label.sk-toggleable__label {background-color: #d4ebff;}#sk-container-id-39 input.sk-hidden--visually {border: 0;clip: rect(1px 1px 1px 1px);clip: rect(1px, 1px, 1px, 1px);height: 1px;margin: -1px;overflow: hidden;padding: 0;position: absolute;width: 1px;}#sk-container-id-39 div.sk-estimator {font-family: monospace;background-color: #f0f8ff;border: 1px dotted black;border-radius: 0.25em;box-sizing: border-box;margin-bottom: 0.5em;}#sk-container-id-39 div.sk-estimator:hover {background-color: #d4ebff;}#sk-container-id-39 div.sk-parallel-item::after {content: \"\";width: 100%;border-bottom: 1px solid gray;flex-grow: 1;}#sk-container-id-39 div.sk-label:hover label.sk-toggleable__label {background-color: #d4ebff;}#sk-container-id-39 div.sk-serial::before {content: \"\";position: absolute;border-left: 1px solid gray;box-sizing: border-box;top: 0;bottom: 0;left: 50%;z-index: 0;}#sk-container-id-39 div.sk-serial {display: flex;flex-direction: column;align-items: center;background-color: white;padding-right: 0.2em;padding-left: 0.2em;position: relative;}#sk-container-id-39 div.sk-item {position: relative;z-index: 1;}#sk-container-id-39 div.sk-parallel {display: flex;align-items: stretch;justify-content: center;background-color: white;position: relative;}#sk-container-id-39 div.sk-item::before, #sk-container-id-39 div.sk-parallel-item::before {content: \"\";position: absolute;border-left: 1px solid gray;box-sizing: border-box;top: 0;bottom: 0;left: 50%;z-index: -1;}#sk-container-id-39 div.sk-parallel-item {display: flex;flex-direction: column;z-index: 1;position: relative;background-color: white;}#sk-container-id-39 div.sk-parallel-item:first-child::after {align-self: flex-end;width: 50%;}#sk-container-id-39 div.sk-parallel-item:last-child::after {align-self: flex-start;width: 50%;}#sk-container-id-39 div.sk-parallel-item:only-child::after {width: 0;}#sk-container-id-39 div.sk-dashed-wrapped {border: 1px dashed gray;margin: 0 0.4em 0.5em 0.4em;box-sizing: border-box;padding-bottom: 0.4em;background-color: white;}#sk-container-id-39 div.sk-label label {font-family: monospace;font-weight: bold;display: inline-block;line-height: 1.2em;}#sk-container-id-39 div.sk-label-container {text-align: center;}#sk-container-id-39 div.sk-container {/* jupyter's `normalize.less` sets `[hidden] { display: none; }` but bootstrap.min.css set `[hidden] { display: none !important; }` so we also need the `!important` here to be able to override the default hidden behavior on the sphinx rendered scikit-learn.org. See: https://github.com/scikit-learn/scikit-learn/issues/21755 */display: inline-block !important;position: relative;}#sk-container-id-39 div.sk-text-repr-fallback {display: none;}</style><div id=\"sk-container-id-39\" class=\"sk-top-container\"><div class=\"sk-text-repr-fallback\"><pre>KMeans(n_clusters=4, n_init=&#x27;auto&#x27;, random_state=0)</pre><b>In a Jupyter environment, please rerun this cell to show the HTML representation or trust the notebook. <br />On GitHub, the HTML representation is unable to render, please try loading this page with nbviewer.org.</b></div><div class=\"sk-container\" hidden><div class=\"sk-item\"><div class=\"sk-estimator sk-toggleable\"><input class=\"sk-toggleable__control sk-hidden--visually\" id=\"sk-estimator-id-39\" type=\"checkbox\" checked><label for=\"sk-estimator-id-39\" class=\"sk-toggleable__label sk-toggleable__label-arrow\">KMeans</label><div class=\"sk-toggleable__content\"><pre>KMeans(n_clusters=4, n_init=&#x27;auto&#x27;, random_state=0)</pre></div></div></div></div></div>"
      ],
      "text/plain": [
       "KMeans(n_clusters=4, n_init='auto', random_state=0)"
      ]
     },
     "execution_count": 255,
     "metadata": {},
     "output_type": "execute_result"
    },
    {
     "data": {
      "image/png": "[encoded data removed]",
      "text/plain": [
       "<Figure size 640x480 with 1 Axes>"
      ]
     },
     "metadata": {},
     "output_type": "display_data"
    }
   ],
   "source": [
    "# Clustering Nr. 03: stricter frequency filters\n",
    "kmeans_cluster_and_pca(\n",
    "    types_ft_tokens, \n",
    "    n_clusters=4, \n",
    "    n_keywords=10, \n",
    "    ngram_range=(1,2), \n",
    "    min_df=5, max_df=10, \n",
    "    )"
   ]
  },
  {
   "cell_type": "markdown",
   "metadata": {},
   "source": [
    "Observation: \n",
    "\n",
    "- with stricter filters, we obtain a similar result to the first setting\n",
    "- maybe dots in PCA space are less scattered"
   ]
  },
  {
   "cell_type": "code",
   "execution_count": 256,
   "metadata": {},
   "outputs": [
    {
     "name": "stdout",
     "output_type": "stream",
     "text": [
      "Cluster 0:\t ['INTP' 'ENTJ' 'ENTP' 'ISTJ' 'ESTJ']\n",
      "clear, point, achieve, fact, rational, respect, thought, responsibility, intellectual, debate\n",
      "Cluster 1:\t ['ENFJ' 'ENFP' 'ISFJ' 'ESFJ']\n",
      "value, happy, family, natural, practical, helping, team, warm, dedication, social\n",
      "Cluster 2:\t ['INTJ' 'INFJ' 'INFP']\n",
      "perfect, grow, fortunately, infps, insight, said, employee, may feel, value, might\n",
      "Cluster 3:\t ['ISTP' 'ISFP' 'ESTP' 'ESFP']\n",
      "action, day, experience, live, planning, relaxed, practical, fun, activity, moment\n"
     ]
    },
    {
     "data": {
      "text/html": [
       "<style>#sk-container-id-40 {color: black;}#sk-container-id-40 pre{padding: 0;}#sk-container-id-40 div.sk-toggleable {background-color: white;}#sk-container-id-40 label.sk-toggleable__label {cursor: pointer;display: block;width: 100%;margin-bottom: 0;padding: 0.3em;box-sizing: border-box;text-align: center;}#sk-container-id-40 label.sk-toggleable__label-arrow:before {content: \"▸\";float: left;margin-right: 0.25em;color: #696969;}#sk-container-id-40 label.sk-toggleable__label-arrow:hover:before {color: black;}#sk-container-id-40 div.sk-estimator:hover label.sk-toggleable__label-arrow:before {color: black;}#sk-container-id-40 div.sk-toggleable__content {max-height: 0;max-width: 0;overflow: hidden;text-align: left;background-color: #f0f8ff;}#sk-container-id-40 div.sk-toggleable__content pre {margin: 0.2em;color: black;border-radius: 0.25em;background-color: #f0f8ff;}#sk-container-id-40 input.sk-toggleable__control:checked~div.sk-toggleable__content {max-height: 200px;max-width: 100%;overflow: auto;}#sk-container-id-40 input.sk-toggleable__control:checked~label.sk-toggleable__label-arrow:before {content: \"▾\";}#sk-container-id-40 div.sk-estimator input.sk-toggleable__control:checked~label.sk-toggleable__label {background-color: #d4ebff;}#sk-container-id-40 div.sk-label input.sk-toggleable__control:checked~label.sk-toggleable__label {background-color: #d4ebff;}#sk-container-id-40 input.sk-hidden--visually {border: 0;clip: rect(1px 1px 1px 1px);clip: rect(1px, 1px, 1px, 1px);height: 1px;margin: -1px;overflow: hidden;padding: 0;position: absolute;width: 1px;}#sk-container-id-40 div.sk-estimator {font-family: monospace;background-color: #f0f8ff;border: 1px dotted black;border-radius: 0.25em;box-sizing: border-box;margin-bottom: 0.5em;}#sk-container-id-40 div.sk-estimator:hover {background-color: #d4ebff;}#sk-container-id-40 div.sk-parallel-item::after {content: \"\";width: 100%;border-bottom: 1px solid gray;flex-grow: 1;}#sk-container-id-40 div.sk-label:hover label.sk-toggleable__label {background-color: #d4ebff;}#sk-container-id-40 div.sk-serial::before {content: \"\";position: absolute;border-left: 1px solid gray;box-sizing: border-box;top: 0;bottom: 0;left: 50%;z-index: 0;}#sk-container-id-40 div.sk-serial {display: flex;flex-direction: column;align-items: center;background-color: white;padding-right: 0.2em;padding-left: 0.2em;position: relative;}#sk-container-id-40 div.sk-item {position: relative;z-index: 1;}#sk-container-id-40 div.sk-parallel {display: flex;align-items: stretch;justify-content: center;background-color: white;position: relative;}#sk-container-id-40 div.sk-item::before, #sk-container-id-40 div.sk-parallel-item::before {content: \"\";position: absolute;border-left: 1px solid gray;box-sizing: border-box;top: 0;bottom: 0;left: 50%;z-index: -1;}#sk-container-id-40 div.sk-parallel-item {display: flex;flex-direction: column;z-index: 1;position: relative;background-color: white;}#sk-container-id-40 div.sk-parallel-item:first-child::after {align-self: flex-end;width: 50%;}#sk-container-id-40 div.sk-parallel-item:last-child::after {align-self: flex-start;width: 50%;}#sk-container-id-40 div.sk-parallel-item:only-child::after {width: 0;}#sk-container-id-40 div.sk-dashed-wrapped {border: 1px dashed gray;margin: 0 0.4em 0.5em 0.4em;box-sizing: border-box;padding-bottom: 0.4em;background-color: white;}#sk-container-id-40 div.sk-label label {font-family: monospace;font-weight: bold;display: inline-block;line-height: 1.2em;}#sk-container-id-40 div.sk-label-container {text-align: center;}#sk-container-id-40 div.sk-container {/* jupyter's `normalize.less` sets `[hidden] { display: none; }` but bootstrap.min.css set `[hidden] { display: none !important; }` so we also need the `!important` here to be able to override the default hidden behavior on the sphinx rendered scikit-learn.org. See: https://github.com/scikit-learn/scikit-learn/issues/21755 */display: inline-block !important;position: relative;}#sk-container-id-40 div.sk-text-repr-fallback {display: none;}</style><div id=\"sk-container-id-40\" class=\"sk-top-container\"><div class=\"sk-text-repr-fallback\"><pre>KMeans(n_clusters=4, n_init=&#x27;auto&#x27;, random_state=0)</pre><b>In a Jupyter environment, please rerun this cell to show the HTML representation or trust the notebook. <br />On GitHub, the HTML representation is unable to render, please try loading this page with nbviewer.org.</b></div><div class=\"sk-container\" hidden><div class=\"sk-item\"><div class=\"sk-estimator sk-toggleable\"><input class=\"sk-toggleable__control sk-hidden--visually\" id=\"sk-estimator-id-40\" type=\"checkbox\" checked><label for=\"sk-estimator-id-40\" class=\"sk-toggleable__label sk-toggleable__label-arrow\">KMeans</label><div class=\"sk-toggleable__content\"><pre>KMeans(n_clusters=4, n_init=&#x27;auto&#x27;, random_state=0)</pre></div></div></div></div></div>"
      ],
      "text/plain": [
       "KMeans(n_clusters=4, n_init='auto', random_state=0)"
      ]
     },
     "execution_count": 256,
     "metadata": {},
     "output_type": "execute_result"
    },
    {
     "data": {
      "image/png": "[encoded data removed]",
      "text/plain": [
       "<Figure size 640x480 with 1 Axes>"
      ]
     },
     "metadata": {},
     "output_type": "display_data"
    }
   ],
   "source": [
    "# Clustering Nr. 04: just a slight max frequency filter \n",
    "# to avoid very generic words\n",
    "kmeans_cluster_and_pca(\n",
    "    types_ft_tokens, \n",
    "    n_clusters=4, \n",
    "    n_keywords=10, \n",
    "    ngram_range=(1,2), \n",
    "    max_df=0.9, \n",
    "    )"
   ]
  },
  {
   "cell_type": "markdown",
   "metadata": {},
   "source": [
    "Observations:\n",
    "\n",
    "- clusters 2 and 3 (\"insight and value\", \"action and experience\") hold\n",
    "- clusters 0 and 1 are mixed in a new way:\n",
    "  - cluster 0: \"rationals and responsability\"\n",
    "  - cluster 1: \"happynes and sociality\"\n",
    "- PCA location of dots may suggest we can try looking for more clusters\n",
    "- $X_1$ axis seems less related to \"judging\" VS \"perceiving\" dichotomy \n",
    "  - (maybe it is slightly related to \"thinking\" VS \"feeling\" (?))"
   ]
  },
  {
   "cell_type": "code",
   "execution_count": 258,
   "metadata": {},
   "outputs": [
    {
     "name": "stdout",
     "output_type": "stream",
     "text": [
      "Cluster 0:\t ['ISTJ' 'ESTJ']\n",
      "opinion, community, tradition, clear, duty, family, dedication, responsibility, fact, respect\n",
      "Cluster 1:\t ['ISFJ' 'ESFJ']\n",
      "customer, responsibility, done, warm, authority, kindness, practical, family, dedication, social\n",
      "Cluster 2:\t ['INFJ' 'INFP']\n",
      "belief, ideal, infjs, idealism, employee, infps, said, may feel, value, might\n",
      "Cluster 3:\t ['ISTP' 'ISFP' 'ESTP' 'ESFP']\n",
      "action, day, experience, live, planning, relaxed, practical, fun, activity, moment\n",
      "Cluster 4:\t ['ENFJ' 'ENFP']\n",
      "team, physical, mean, excitement, natural, heart, chance, genuine, idealism, interest\n",
      "Cluster 5:\t ['INTJ' 'INTP' 'ENTJ' 'ENTP']\n",
      "prove, social, logic, point, achieve, debate, rational, thought, insight, intellectual\n"
     ]
    },
    {
     "data": {
      "text/html": [
       "<style>#sk-container-id-42 {color: black;}#sk-container-id-42 pre{padding: 0;}#sk-container-id-42 div.sk-toggleable {background-color: white;}#sk-container-id-42 label.sk-toggleable__label {cursor: pointer;display: block;width: 100%;margin-bottom: 0;padding: 0.3em;box-sizing: border-box;text-align: center;}#sk-container-id-42 label.sk-toggleable__label-arrow:before {content: \"▸\";float: left;margin-right: 0.25em;color: #696969;}#sk-container-id-42 label.sk-toggleable__label-arrow:hover:before {color: black;}#sk-container-id-42 div.sk-estimator:hover label.sk-toggleable__label-arrow:before {color: black;}#sk-container-id-42 div.sk-toggleable__content {max-height: 0;max-width: 0;overflow: hidden;text-align: left;background-color: #f0f8ff;}#sk-container-id-42 div.sk-toggleable__content pre {margin: 0.2em;color: black;border-radius: 0.25em;background-color: #f0f8ff;}#sk-container-id-42 input.sk-toggleable__control:checked~div.sk-toggleable__content {max-height: 200px;max-width: 100%;overflow: auto;}#sk-container-id-42 input.sk-toggleable__control:checked~label.sk-toggleable__label-arrow:before {content: \"▾\";}#sk-container-id-42 div.sk-estimator input.sk-toggleable__control:checked~label.sk-toggleable__label {background-color: #d4ebff;}#sk-container-id-42 div.sk-label input.sk-toggleable__control:checked~label.sk-toggleable__label {background-color: #d4ebff;}#sk-container-id-42 input.sk-hidden--visually {border: 0;clip: rect(1px 1px 1px 1px);clip: rect(1px, 1px, 1px, 1px);height: 1px;margin: -1px;overflow: hidden;padding: 0;position: absolute;width: 1px;}#sk-container-id-42 div.sk-estimator {font-family: monospace;background-color: #f0f8ff;border: 1px dotted black;border-radius: 0.25em;box-sizing: border-box;margin-bottom: 0.5em;}#sk-container-id-42 div.sk-estimator:hover {background-color: #d4ebff;}#sk-container-id-42 div.sk-parallel-item::after {content: \"\";width: 100%;border-bottom: 1px solid gray;flex-grow: 1;}#sk-container-id-42 div.sk-label:hover label.sk-toggleable__label {background-color: #d4ebff;}#sk-container-id-42 div.sk-serial::before {content: \"\";position: absolute;border-left: 1px solid gray;box-sizing: border-box;top: 0;bottom: 0;left: 50%;z-index: 0;}#sk-container-id-42 div.sk-serial {display: flex;flex-direction: column;align-items: center;background-color: white;padding-right: 0.2em;padding-left: 0.2em;position: relative;}#sk-container-id-42 div.sk-item {position: relative;z-index: 1;}#sk-container-id-42 div.sk-parallel {display: flex;align-items: stretch;justify-content: center;background-color: white;position: relative;}#sk-container-id-42 div.sk-item::before, #sk-container-id-42 div.sk-parallel-item::before {content: \"\";position: absolute;border-left: 1px solid gray;box-sizing: border-box;top: 0;bottom: 0;left: 50%;z-index: -1;}#sk-container-id-42 div.sk-parallel-item {display: flex;flex-direction: column;z-index: 1;position: relative;background-color: white;}#sk-container-id-42 div.sk-parallel-item:first-child::after {align-self: flex-end;width: 50%;}#sk-container-id-42 div.sk-parallel-item:last-child::after {align-self: flex-start;width: 50%;}#sk-container-id-42 div.sk-parallel-item:only-child::after {width: 0;}#sk-container-id-42 div.sk-dashed-wrapped {border: 1px dashed gray;margin: 0 0.4em 0.5em 0.4em;box-sizing: border-box;padding-bottom: 0.4em;background-color: white;}#sk-container-id-42 div.sk-label label {font-family: monospace;font-weight: bold;display: inline-block;line-height: 1.2em;}#sk-container-id-42 div.sk-label-container {text-align: center;}#sk-container-id-42 div.sk-container {/* jupyter's `normalize.less` sets `[hidden] { display: none; }` but bootstrap.min.css set `[hidden] { display: none !important; }` so we also need the `!important` here to be able to override the default hidden behavior on the sphinx rendered scikit-learn.org. See: https://github.com/scikit-learn/scikit-learn/issues/21755 */display: inline-block !important;position: relative;}#sk-container-id-42 div.sk-text-repr-fallback {display: none;}</style><div id=\"sk-container-id-42\" class=\"sk-top-container\"><div class=\"sk-text-repr-fallback\"><pre>KMeans(n_clusters=6, n_init=&#x27;auto&#x27;, random_state=0)</pre><b>In a Jupyter environment, please rerun this cell to show the HTML representation or trust the notebook. <br />On GitHub, the HTML representation is unable to render, please try loading this page with nbviewer.org.</b></div><div class=\"sk-container\" hidden><div class=\"sk-item\"><div class=\"sk-estimator sk-toggleable\"><input class=\"sk-toggleable__control sk-hidden--visually\" id=\"sk-estimator-id-42\" type=\"checkbox\" checked><label for=\"sk-estimator-id-42\" class=\"sk-toggleable__label sk-toggleable__label-arrow\">KMeans</label><div class=\"sk-toggleable__content\"><pre>KMeans(n_clusters=6, n_init=&#x27;auto&#x27;, random_state=0)</pre></div></div></div></div></div>"
      ],
      "text/plain": [
       "KMeans(n_clusters=6, n_init='auto', random_state=0)"
      ]
     },
     "execution_count": 258,
     "metadata": {},
     "output_type": "execute_result"
    },
    {
     "data": {
      "image/png": "[encoded data removed]",
      "text/plain": [
       "<Figure size 640x480 with 1 Axes>"
      ]
     },
     "metadata": {},
     "output_type": "display_data"
    }
   ],
   "source": [
    "# Clustering Nr. 05: attempt 6 clusters\n",
    "kmeans_cluster_and_pca(\n",
    "    types_ft_tokens, \n",
    "    n_clusters=6, \n",
    "    n_keywords=10, \n",
    "    ngram_range=(1,2), \n",
    "    max_df=0.9, \n",
    "    )"
   ]
  },
  {
   "cell_type": "markdown",
   "metadata": {},
   "source": [
    "Observation: \n",
    "\n",
    "- this last setting brings results more related to the letters of the MBTI types\n",
    "- we have:\n",
    "  - cluster 0: \"xSTJ\" (\"community and tradition\" oriented)\n",
    "  - cluster 1: \"xSFJ\" (\"responsibility\" oriented)\n",
    "  - cluster 2: \"INFx\" (\"idealism\" oriented)\n",
    "  - cluster 3: \"xSxP\" (\"action and experience\" oriented)\n",
    "  - cluster 4: \"ENFx\" (\"team\" oriented)\n",
    "  - cluster 5: \"xNTx\" (\"logic and thought\" oriented)"
   ]
  },
  {
   "cell_type": "markdown",
   "metadata": {},
   "source": [
    "Final observations: \n",
    "\n",
    "- it seems there isn't a single \"correct\" way to cluster the MBTI types\n",
    "- some groupings hold more than others (e.g., \"action and experience\" cluster holds very well in all settings)\n",
    "- some pairs of types are close than others\n",
    "  - (they may move in different clusters depending on the settings, but they tend to be together)\n",
    "  - e.g., `('INFP', 'INFJ'), ('ISFJ', 'ESFJ'), ('INTP', 'ENTP'), ('ISTJ', 'ESTJ')`\n",
    "  - generally speaking, stable relationships seems related to the letters\n",
    "- the change of some groupings suggests some types have various \"facades\"\n",
    "  - e.g., `'ENFP'` is both a very abstract and thought-oriented and also very social\n",
    "  - e.g., `'INTJ'` are interested in \"logic\", but also in \"deep value\"\n",
    "  - e.g., `'ENTJ'` is attached to \"hierarchy and duty\", but he is also an \"intuitive thinker\"\n",
    "\n",
    "- according to how types are plotted in PCA, the \"intuition\" vs \"sensation\" dichotomy seems to be relevant\n",
    "  - another recurrent but less well defined dichotomy is \"judging\" vs \"perceiving\"\n",
    "  - \"thinking\" vs \"feeling\" doesn't seem to emerge too much\n",
    "  - \"introversion\" vs \"extroversion\" seems to be the less relevant dichotomy"
   ]
  },
  {
   "cell_type": "markdown",
   "metadata": {},
   "source": [
    "### Clustering on just some parts of speech"
   ]
  },
  {
   "cell_type": "code",
   "execution_count": null,
   "metadata": {},
   "outputs": [],
   "source": []
  },
  {
   "attachments": {},
   "cell_type": "markdown",
   "metadata": {},
   "source": [
    "## Topic labeling on MBTI types\n",
    "\n",
    "> Which are the main topics of each found cluster? And of each MBTI type? And of the whole dataset? \n",
    "\n",
    "**Tools and techniques**: *topic modeling (LDA)*"
   ]
  },
  {
   "cell_type": "code",
   "execution_count": null,
   "metadata": {},
   "outputs": [
    {
     "data": {
      "text/plain": [
       "Index(['Introduction', 'Strengths and Weaknesses', 'Romantic Relationships',\n",
       "       'Friendships', 'Parenthood', 'Career Paths', 'Workplace Habits',\n",
       "       'Conclusion', 'Celebrities', 'Description', 'Nickname', 'Definition',\n",
       "       'E', 'I', 'N', 'S', 'T', 'F', 'J', 'P'],\n",
       "      dtype='object')"
      ]
     },
     "execution_count": 20,
     "metadata": {},
     "output_type": "execute_result"
    }
   ],
   "source": [
    "types.columns"
   ]
  },
  {
   "cell_type": "code",
   "execution_count": null,
   "metadata": {},
   "outputs": [],
   "source": [
    "# take as documents all the paragraph of a type\n",
    "def get_type_paragraphs(df, type_name: str, paragraphs: list = [\n",
    "        \"Introduction\", \n",
    "        \"Strengths and Weaknesses\", \n",
    "        \"Romantic Relationships\", \n",
    "        \"Friendships\", \n",
    "        \"Parenthood\", \n",
    "        \"Career Paths\",\n",
    "        \"Workplace Habits\",\n",
    "        \"Conclusion\", \n",
    "        \"Description\",\n",
    "    ]) -> List[str]:\n",
    "\n",
    "    return [df.loc[type_name, :][p] for p in paragraphs]\n",
    "\n",
    "# get the paragraphs for each type\n",
    "paragraphs = [p for t in types.index for p in get_type_paragraphs(types, t)]\n"
   ]
  },
  {
   "cell_type": "code",
   "execution_count": null,
   "metadata": {},
   "outputs": [],
   "source": [
    "# extract tokens \n",
    "all_tokens = [preprocessing(p, lemmatizer, 1, other_stopwords) for p in paragraphs]\n",
    "\n",
    "# make a dictionary\n",
    "all_tokens_dict = gensim.corpora.Dictionary(all_tokens)\n",
    "\n",
    "# convert tokenized documents into a document-term matrix\n",
    "corpus = [all_tokens_dict.doc2bow(tokens) for tokens in all_tokens]\n"
   ]
  },
  {
   "cell_type": "code",
   "execution_count": null,
   "metadata": {},
   "outputs": [
    {
     "name": "stdout",
     "output_type": "stream",
     "text": [
      "(0, '0.022*\"protagonist\" + 0.013*\"child\" + 0.009*\"people\" + 0.009*\"personality\" + 0.007*\"parent\" + 0.007*\"type\" + 0.006*\"make\" + 0.006*\"often\" + 0.006*\"executive\" + 0.006*\"take\"')\n",
      "(1, '0.021*\"need\" + 0.012*\"personality\" + 0.012*\"type\" + 0.010*\"go\" + 0.009*\"challenge\" + 0.009*\"many\" + 0.009*\"learn\" + 0.008*\"may\" + 0.008*\"potential\" + 0.007*\"personal\"')\n",
      "(2, '0.019*\"personality\" + 0.017*\"advocate\" + 0.017*\"people\" + 0.013*\"type\" + 0.009*\"may\" + 0.009*\"friend\" + 0.007*\"entrepreneur\" + 0.007*\"others\" + 0.006*\"make\" + 0.006*\"defender\"')\n",
      "(3, '0.018*\"personality\" + 0.014*\"people\" + 0.012*\"type\" + 0.008*\"partner\" + 0.008*\"make\" + 0.007*\"relationship\" + 0.007*\"thing\" + 0.007*\"need\" + 0.006*\"logistician\" + 0.006*\"entertainer\"')\n",
      "(4, '0.019*\"personality\" + 0.015*\"child\" + 0.013*\"type\" + 0.012*\"people\" + 0.010*\"architect\" + 0.008*\"commander\" + 0.008*\"logician\" + 0.007*\"executive\" + 0.007*\"may\" + 0.006*\"make\"')\n"
     ]
    }
   ],
   "source": [
    "# generate LDA model\n",
    "lda_model = gensim.models.LdaMulticore(corpus, num_topics=5, id2word=all_tokens_dict, passes=20)\n",
    "\n",
    "for t in lda_model.print_topics(num_words=10):\n",
    "    print(t)"
   ]
  }
 ],
 "metadata": {
  "kernelspec": {
   "display_name": ".venv",
   "language": "python",
   "name": "python3"
  },
  "language_info": {
   "codemirror_mode": {
    "name": "ipython",
    "version": 3
   },
   "file_extension": ".py",
   "mimetype": "text/x-python",
   "name": "python",
   "nbconvert_exporter": "python",
   "pygments_lexer": "ipython3",
   "version": "3.11.4"
  },
  "orig_nbformat": 4
 },
 "nbformat": 4,
 "nbformat_minor": 2
}
